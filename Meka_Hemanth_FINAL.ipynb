{
 "cells": [
  {
   "cell_type": "markdown",
   "id": "b569aec9",
   "metadata": {},
   "source": [
    "CSC 612-002 - Spring 2024: Intro to Computer Programming,Final Project,Hemanth Meka, 03/08/2024\n",
    "\n",
    "The overall goal of the project is to perfom EDA on a given data set and solve different questions based on the concepts learned from the course."
   ]
  },
  {
   "cell_type": "code",
   "execution_count": 89,
   "id": "c4dcd85f",
   "metadata": {},
   "outputs": [],
   "source": [
    "# Run this cell to load the necessary libraries\n",
    "import pandas as pd\n",
    "import numpy as np\n",
    "import matplotlib.pyplot as plt"
   ]
  },
  {
   "cell_type": "markdown",
   "id": "c21a59f8",
   "metadata": {},
   "source": [
    "Question-1"
   ]
  },
  {
   "cell_type": "code",
   "execution_count": 90,
   "id": "1f9c97ef",
   "metadata": {},
   "outputs": [
    {
     "data": {
      "text/html": [
       "<div>\n",
       "<style scoped>\n",
       "    .dataframe tbody tr th:only-of-type {\n",
       "        vertical-align: middle;\n",
       "    }\n",
       "\n",
       "    .dataframe tbody tr th {\n",
       "        vertical-align: top;\n",
       "    }\n",
       "\n",
       "    .dataframe thead th {\n",
       "        text-align: right;\n",
       "    }\n",
       "</style>\n",
       "<table border=\"1\" class=\"dataframe\">\n",
       "  <thead>\n",
       "    <tr style=\"text-align: right;\">\n",
       "      <th></th>\n",
       "      <th>satisfaction</th>\n",
       "      <th>Customer Type</th>\n",
       "      <th>Age</th>\n",
       "      <th>Type of Travel</th>\n",
       "      <th>Class</th>\n",
       "      <th>Flight Distance</th>\n",
       "      <th>Seat comfort</th>\n",
       "      <th>Departure/Arrival time convenient</th>\n",
       "      <th>Food and drink</th>\n",
       "      <th>Gate location</th>\n",
       "      <th>...</th>\n",
       "      <th>Online support</th>\n",
       "      <th>Ease of Online booking</th>\n",
       "      <th>On-board service</th>\n",
       "      <th>Leg room service</th>\n",
       "      <th>Baggage handling</th>\n",
       "      <th>Checkin service</th>\n",
       "      <th>Cleanliness</th>\n",
       "      <th>Online boarding</th>\n",
       "      <th>Departure Delay in Minutes</th>\n",
       "      <th>Arrival Delay in Minutes</th>\n",
       "    </tr>\n",
       "  </thead>\n",
       "  <tbody>\n",
       "    <tr>\n",
       "      <th>0</th>\n",
       "      <td>satisfied</td>\n",
       "      <td>Loyal Customer</td>\n",
       "      <td>65</td>\n",
       "      <td>Personal Travel</td>\n",
       "      <td>Eco</td>\n",
       "      <td>265</td>\n",
       "      <td>0</td>\n",
       "      <td>0</td>\n",
       "      <td>0</td>\n",
       "      <td>2</td>\n",
       "      <td>...</td>\n",
       "      <td>2</td>\n",
       "      <td>3</td>\n",
       "      <td>3</td>\n",
       "      <td>0</td>\n",
       "      <td>3</td>\n",
       "      <td>5</td>\n",
       "      <td>3</td>\n",
       "      <td>2</td>\n",
       "      <td>0</td>\n",
       "      <td>0.0</td>\n",
       "    </tr>\n",
       "    <tr>\n",
       "      <th>1</th>\n",
       "      <td>satisfied</td>\n",
       "      <td>Loyal Customer</td>\n",
       "      <td>47</td>\n",
       "      <td>Personal Travel</td>\n",
       "      <td>Business</td>\n",
       "      <td>2464</td>\n",
       "      <td>0</td>\n",
       "      <td>0</td>\n",
       "      <td>0</td>\n",
       "      <td>3</td>\n",
       "      <td>...</td>\n",
       "      <td>2</td>\n",
       "      <td>3</td>\n",
       "      <td>4</td>\n",
       "      <td>4</td>\n",
       "      <td>4</td>\n",
       "      <td>2</td>\n",
       "      <td>3</td>\n",
       "      <td>2</td>\n",
       "      <td>310</td>\n",
       "      <td>305.0</td>\n",
       "    </tr>\n",
       "    <tr>\n",
       "      <th>2</th>\n",
       "      <td>satisfied</td>\n",
       "      <td>Loyal Customer</td>\n",
       "      <td>15</td>\n",
       "      <td>Personal Travel</td>\n",
       "      <td>Eco</td>\n",
       "      <td>2138</td>\n",
       "      <td>0</td>\n",
       "      <td>0</td>\n",
       "      <td>0</td>\n",
       "      <td>3</td>\n",
       "      <td>...</td>\n",
       "      <td>2</td>\n",
       "      <td>2</td>\n",
       "      <td>3</td>\n",
       "      <td>3</td>\n",
       "      <td>4</td>\n",
       "      <td>4</td>\n",
       "      <td>4</td>\n",
       "      <td>2</td>\n",
       "      <td>0</td>\n",
       "      <td>0.0</td>\n",
       "    </tr>\n",
       "    <tr>\n",
       "      <th>3</th>\n",
       "      <td>satisfied</td>\n",
       "      <td>Loyal Customer</td>\n",
       "      <td>60</td>\n",
       "      <td>Personal Travel</td>\n",
       "      <td>Eco</td>\n",
       "      <td>623</td>\n",
       "      <td>0</td>\n",
       "      <td>0</td>\n",
       "      <td>0</td>\n",
       "      <td>3</td>\n",
       "      <td>...</td>\n",
       "      <td>3</td>\n",
       "      <td>1</td>\n",
       "      <td>1</td>\n",
       "      <td>0</td>\n",
       "      <td>1</td>\n",
       "      <td>4</td>\n",
       "      <td>1</td>\n",
       "      <td>3</td>\n",
       "      <td>0</td>\n",
       "      <td>0.0</td>\n",
       "    </tr>\n",
       "    <tr>\n",
       "      <th>4</th>\n",
       "      <td>satisfied</td>\n",
       "      <td>Loyal Customer</td>\n",
       "      <td>70</td>\n",
       "      <td>Personal Travel</td>\n",
       "      <td>Eco</td>\n",
       "      <td>354</td>\n",
       "      <td>0</td>\n",
       "      <td>0</td>\n",
       "      <td>0</td>\n",
       "      <td>3</td>\n",
       "      <td>...</td>\n",
       "      <td>4</td>\n",
       "      <td>2</td>\n",
       "      <td>2</td>\n",
       "      <td>0</td>\n",
       "      <td>2</td>\n",
       "      <td>4</td>\n",
       "      <td>2</td>\n",
       "      <td>5</td>\n",
       "      <td>0</td>\n",
       "      <td>0.0</td>\n",
       "    </tr>\n",
       "  </tbody>\n",
       "</table>\n",
       "<p>5 rows × 22 columns</p>\n",
       "</div>"
      ],
      "text/plain": [
       "  satisfaction   Customer Type  Age   Type of Travel     Class  \\\n",
       "0    satisfied  Loyal Customer   65  Personal Travel       Eco   \n",
       "1    satisfied  Loyal Customer   47  Personal Travel  Business   \n",
       "2    satisfied  Loyal Customer   15  Personal Travel       Eco   \n",
       "3    satisfied  Loyal Customer   60  Personal Travel       Eco   \n",
       "4    satisfied  Loyal Customer   70  Personal Travel       Eco   \n",
       "\n",
       "   Flight Distance  Seat comfort  Departure/Arrival time convenient  \\\n",
       "0              265             0                                  0   \n",
       "1             2464             0                                  0   \n",
       "2             2138             0                                  0   \n",
       "3              623             0                                  0   \n",
       "4              354             0                                  0   \n",
       "\n",
       "   Food and drink  Gate location  ...  Online support  Ease of Online booking  \\\n",
       "0               0              2  ...               2                       3   \n",
       "1               0              3  ...               2                       3   \n",
       "2               0              3  ...               2                       2   \n",
       "3               0              3  ...               3                       1   \n",
       "4               0              3  ...               4                       2   \n",
       "\n",
       "   On-board service  Leg room service  Baggage handling  Checkin service  \\\n",
       "0                 3                 0                 3                5   \n",
       "1                 4                 4                 4                2   \n",
       "2                 3                 3                 4                4   \n",
       "3                 1                 0                 1                4   \n",
       "4                 2                 0                 2                4   \n",
       "\n",
       "   Cleanliness  Online boarding  Departure Delay in Minutes  \\\n",
       "0            3                2                           0   \n",
       "1            3                2                         310   \n",
       "2            4                2                           0   \n",
       "3            1                3                           0   \n",
       "4            2                5                           0   \n",
       "\n",
       "   Arrival Delay in Minutes  \n",
       "0                       0.0  \n",
       "1                     305.0  \n",
       "2                       0.0  \n",
       "3                       0.0  \n",
       "4                       0.0  \n",
       "\n",
       "[5 rows x 22 columns]"
      ]
     },
     "execution_count": 90,
     "metadata": {},
     "output_type": "execute_result"
    }
   ],
   "source": [
    "# Run this cell to import the dataset into a pandas dataframe\n",
    "airlineDF = pd.read_csv('Airline.csv')        # Read the datafile into a dataframe\n",
    "\n",
    "airlineDF.head()                              # print the first five rows from the dataframe"
   ]
  },
  {
   "cell_type": "markdown",
   "id": "d3b279e9",
   "metadata": {},
   "source": [
    "Question-2"
   ]
  },
  {
   "cell_type": "code",
   "execution_count": 91,
   "id": "83ff446b",
   "metadata": {},
   "outputs": [
    {
     "name": "stdout",
     "output_type": "stream",
     "text": [
      "  satisfaction   Customer Type  Age   Type of Travel     Class  \\\n",
      "0    satisfied  Loyal Customer   65  Personal Travel       Eco   \n",
      "1    satisfied  Loyal Customer   47  Personal Travel  Business   \n",
      "2    satisfied  Loyal Customer   15  Personal Travel       Eco   \n",
      "3    satisfied  Loyal Customer   60  Personal Travel       Eco   \n",
      "4    satisfied  Loyal Customer   70  Personal Travel       Eco   \n",
      "\n",
      "   Flight Distance  Seat comfort  Departure/Arrival time convenient  \\\n",
      "0              265             0                                  0   \n",
      "1             2464             0                                  0   \n",
      "2             2138             0                                  0   \n",
      "3              623             0                                  0   \n",
      "4              354             0                                  0   \n",
      "\n",
      "   Food and drink  Gate location  ...  Online support  Ease of Online booking  \\\n",
      "0               0              2  ...               2                       3   \n",
      "1               0              3  ...               2                       3   \n",
      "2               0              3  ...               2                       2   \n",
      "3               0              3  ...               3                       1   \n",
      "4               0              3  ...               4                       2   \n",
      "\n",
      "   On-board service  Leg room service  Baggage handling  Checkin service  \\\n",
      "0                 3                 0                 3                5   \n",
      "1                 4                 4                 4                2   \n",
      "2                 3                 3                 4                4   \n",
      "3                 1                 0                 1                4   \n",
      "4                 2                 0                 2                4   \n",
      "\n",
      "   Cleanliness  Online boarding  Departure Delay in Minutes  \\\n",
      "0            3                2                           0   \n",
      "1            3                2                         310   \n",
      "2            4                2                           0   \n",
      "3            1                3                           0   \n",
      "4            2                5                           0   \n",
      "\n",
      "   Arrival Delay in Minutes  \n",
      "0                       0.0  \n",
      "1                     305.0  \n",
      "2                       0.0  \n",
      "3                       0.0  \n",
      "4                       0.0  \n",
      "\n",
      "[5 rows x 22 columns]\n",
      "     satisfaction   Customer Type  Age   Type of Travel     Class  \\\n",
      "795  dissatisfied  Loyal Customer   48  Personal Travel  Eco Plus   \n",
      "799  dissatisfied  Loyal Customer   30  Personal Travel       Eco   \n",
      "803  dissatisfied  Loyal Customer   19  Personal Travel       Eco   \n",
      "804  dissatisfied  Loyal Customer   13  Personal Travel       Eco   \n",
      "805  dissatisfied  Loyal Customer   31  Personal Travel       Eco   \n",
      "\n",
      "     Flight Distance  Seat comfort  Departure/Arrival time convenient  \\\n",
      "795             1201             1                                  0   \n",
      "799             1582             1                                  0   \n",
      "803             1737             1                                  0   \n",
      "804             1351             1                                  0   \n",
      "805             1109             1                                  0   \n",
      "\n",
      "     Food and drink  Gate location  ...  Online support  \\\n",
      "795               0              1  ...               5   \n",
      "799               0              3  ...               1   \n",
      "803               0              4  ...               1   \n",
      "804               0              4  ...               5   \n",
      "805               0              4  ...               4   \n",
      "\n",
      "     Ease of Online booking  On-board service  Leg room service  \\\n",
      "795                       5                 5                 5   \n",
      "799                       1                 2                 4   \n",
      "803                       1                 4                 4   \n",
      "804                       5                 5                 2   \n",
      "805                       4                 3                 3   \n",
      "\n",
      "     Baggage handling  Checkin service  Cleanliness  Online boarding  \\\n",
      "795                 4                4            5                5   \n",
      "799                 3                5            1                1   \n",
      "803                 5                3            5                1   \n",
      "804                 5                4            4                5   \n",
      "805                 4                3            4                4   \n",
      "\n",
      "     Departure Delay in Minutes  Arrival Delay in Minutes  \n",
      "795                           0                       0.0  \n",
      "799                           0                       2.0  \n",
      "803                           0                       0.0  \n",
      "804                           4                       2.0  \n",
      "805                           0                       0.0  \n",
      "\n",
      "[5 rows x 22 columns]\n"
     ]
    }
   ],
   "source": [
    "satisfiedDF= airlineDF[airlineDF['satisfaction'] == 'satisfied']            # creating a dataframe which contaion only satisfied costumers\n",
    "print(satisfiedDF.head())                                                   # print the first five rows to screen\n",
    "dissatisfiedDF= airlineDF[airlineDF['satisfaction'] == 'dissatisfied']      # creating a dataframe which contaion only dissatisfied costumers\n",
    "print(dissatisfiedDF.head())                                                # print the first five rows to screen"
   ]
  },
  {
   "cell_type": "code",
   "execution_count": 92,
   "id": "f00b9f65",
   "metadata": {},
   "outputs": [
    {
     "name": "stdout",
     "output_type": "stream",
     "text": [
      "  satisfaction   Customer Type  Age   Type of Travel     Class  \\\n",
      "0    satisfied  Loyal Customer   65  Personal Travel       Eco   \n",
      "1    satisfied  Loyal Customer   47  Personal Travel  Business   \n",
      "2    satisfied  Loyal Customer   15  Personal Travel       Eco   \n",
      "3    satisfied  Loyal Customer   60  Personal Travel       Eco   \n",
      "4    satisfied  Loyal Customer   70  Personal Travel       Eco   \n",
      "\n",
      "   Flight Distance  Seat comfort  Departure/Arrival time convenient  \\\n",
      "0              265             0                                  0   \n",
      "1             2464             0                                  0   \n",
      "2             2138             0                                  0   \n",
      "3              623             0                                  0   \n",
      "4              354             0                                  0   \n",
      "\n",
      "   Food and drink  Gate location  ...  Online support  Ease of Online booking  \\\n",
      "0               0              2  ...               2                       3   \n",
      "1               0              3  ...               2                       3   \n",
      "2               0              3  ...               2                       2   \n",
      "3               0              3  ...               3                       1   \n",
      "4               0              3  ...               4                       2   \n",
      "\n",
      "   On-board service  Leg room service  Baggage handling  Checkin service  \\\n",
      "0                 3                 0                 3                5   \n",
      "1                 4                 4                 4                2   \n",
      "2                 3                 3                 4                4   \n",
      "3                 1                 0                 1                4   \n",
      "4                 2                 0                 2                4   \n",
      "\n",
      "   Cleanliness  Online boarding  Departure Delay in Minutes  \\\n",
      "0            3                2                           0   \n",
      "1            3                2                         310   \n",
      "2            4                2                           0   \n",
      "3            1                3                           0   \n",
      "4            2                5                           0   \n",
      "\n",
      "   Arrival Delay in Minutes  \n",
      "0                       0.0  \n",
      "1                     305.0  \n",
      "2                       0.0  \n",
      "3                       0.0  \n",
      "4                       0.0  \n",
      "\n",
      "[5 rows x 22 columns]\n",
      "      satisfaction      Customer Type  Age   Type of Travel     Class  \\\n",
      "39981    satisfied  disloyal Customer   23  Business travel       Eco   \n",
      "39982    satisfied  disloyal Customer   24  Business travel       Eco   \n",
      "39983    satisfied  disloyal Customer   30  Business travel  Business   \n",
      "39984    satisfied  disloyal Customer   30  Business travel  Business   \n",
      "39985    satisfied  disloyal Customer   30  Business travel  Business   \n",
      "\n",
      "       Flight Distance  Seat comfort  Departure/Arrival time convenient  \\\n",
      "39981             2196             0                                  0   \n",
      "39982             2683             0                                  0   \n",
      "39983             2723             0                                  0   \n",
      "39984             2530             0                                  0   \n",
      "39985             3019             0                                  0   \n",
      "\n",
      "       Food and drink  Gate location  ...  Online support  \\\n",
      "39981               0              1  ...               4   \n",
      "39982               0              1  ...               2   \n",
      "39983               0              1  ...               1   \n",
      "39984               0              1  ...               4   \n",
      "39985               0              1  ...               4   \n",
      "\n",
      "       Ease of Online booking  On-board service  Leg room service  \\\n",
      "39981                       4                 5                 4   \n",
      "39982                       2                 2                 1   \n",
      "39983                       1                 4                 5   \n",
      "39984                       4                 5                 4   \n",
      "39985                       5                 4                 4   \n",
      "\n",
      "       Baggage handling  Checkin service  Cleanliness  Online boarding  \\\n",
      "39981                 2                2            3                4   \n",
      "39982                 2                4            2                2   \n",
      "39983                 5                5            4                1   \n",
      "39984                 4                5            4                4   \n",
      "39985                 4                5            4                5   \n",
      "\n",
      "       Departure Delay in Minutes  Arrival Delay in Minutes  \n",
      "39981                           0                       0.0  \n",
      "39982                           0                       0.0  \n",
      "39983                           3                       0.0  \n",
      "39984                          18                       6.0  \n",
      "39985                          38                      35.0  \n",
      "\n",
      "[5 rows x 22 columns]\n"
     ]
    }
   ],
   "source": [
    "loyalDF =airlineDF[airlineDF['Customer Type']== 'Loyal Customer']     # creating a data frame which contaion only loyal costumers\n",
    "print(loyalDF.head())                                                # print the first five rows to screen\n",
    "disloyalDF =airlineDF[airlineDF['Customer Type']== 'disloyal Customer']   # creating a data frame which contaion only disloyal costumers\n",
    "print(disloyalDF.head())                                                # print the first five rows to screen"
   ]
  },
  {
   "cell_type": "code",
   "execution_count": 93,
   "id": "7a279138",
   "metadata": {},
   "outputs": [
    {
     "name": "stdout",
     "output_type": "stream",
     "text": [
      "  satisfaction   Customer Type  Age   Type of Travel     Class  \\\n",
      "0    satisfied  Loyal Customer   65  Personal Travel       Eco   \n",
      "1    satisfied  Loyal Customer   47  Personal Travel  Business   \n",
      "2    satisfied  Loyal Customer   15  Personal Travel       Eco   \n",
      "3    satisfied  Loyal Customer   60  Personal Travel       Eco   \n",
      "4    satisfied  Loyal Customer   70  Personal Travel       Eco   \n",
      "\n",
      "   Flight Distance  Seat comfort  Departure/Arrival time convenient  \\\n",
      "0              265             0                                  0   \n",
      "1             2464             0                                  0   \n",
      "2             2138             0                                  0   \n",
      "3              623             0                                  0   \n",
      "4              354             0                                  0   \n",
      "\n",
      "   Food and drink  Gate location  ...  Online support  Ease of Online booking  \\\n",
      "0               0              2  ...               2                       3   \n",
      "1               0              3  ...               2                       3   \n",
      "2               0              3  ...               2                       2   \n",
      "3               0              3  ...               3                       1   \n",
      "4               0              3  ...               4                       2   \n",
      "\n",
      "   On-board service  Leg room service  Baggage handling  Checkin service  \\\n",
      "0                 3                 0                 3                5   \n",
      "1                 4                 4                 4                2   \n",
      "2                 3                 3                 4                4   \n",
      "3                 1                 0                 1                4   \n",
      "4                 2                 0                 2                4   \n",
      "\n",
      "   Cleanliness  Online boarding  Departure Delay in Minutes  \\\n",
      "0            3                2                           0   \n",
      "1            3                2                         310   \n",
      "2            4                2                           0   \n",
      "3            1                3                           0   \n",
      "4            2                5                           0   \n",
      "\n",
      "   Arrival Delay in Minutes  \n",
      "0                       0.0  \n",
      "1                     305.0  \n",
      "2                       0.0  \n",
      "3                       0.0  \n",
      "4                       0.0  \n",
      "\n",
      "[5 rows x 22 columns]\n",
      "      satisfaction      Customer Type  Age   Type of Travel     Class  \\\n",
      "39981    satisfied  disloyal Customer   23  Business travel       Eco   \n",
      "39982    satisfied  disloyal Customer   24  Business travel       Eco   \n",
      "39983    satisfied  disloyal Customer   30  Business travel  Business   \n",
      "39984    satisfied  disloyal Customer   30  Business travel  Business   \n",
      "39985    satisfied  disloyal Customer   30  Business travel  Business   \n",
      "\n",
      "       Flight Distance  Seat comfort  Departure/Arrival time convenient  \\\n",
      "39981             2196             0                                  0   \n",
      "39982             2683             0                                  0   \n",
      "39983             2723             0                                  0   \n",
      "39984             2530             0                                  0   \n",
      "39985             3019             0                                  0   \n",
      "\n",
      "       Food and drink  Gate location  ...  Online support  \\\n",
      "39981               0              1  ...               4   \n",
      "39982               0              1  ...               2   \n",
      "39983               0              1  ...               1   \n",
      "39984               0              1  ...               4   \n",
      "39985               0              1  ...               4   \n",
      "\n",
      "       Ease of Online booking  On-board service  Leg room service  \\\n",
      "39981                       4                 5                 4   \n",
      "39982                       2                 2                 1   \n",
      "39983                       1                 4                 5   \n",
      "39984                       4                 5                 4   \n",
      "39985                       5                 4                 4   \n",
      "\n",
      "       Baggage handling  Checkin service  Cleanliness  Online boarding  \\\n",
      "39981                 2                2            3                4   \n",
      "39982                 2                4            2                2   \n",
      "39983                 5                5            4                1   \n",
      "39984                 4                5            4                4   \n",
      "39985                 4                5            4                5   \n",
      "\n",
      "       Departure Delay in Minutes  Arrival Delay in Minutes  \n",
      "39981                           0                       0.0  \n",
      "39982                           0                       0.0  \n",
      "39983                           3                       0.0  \n",
      "39984                          18                       6.0  \n",
      "39985                          38                      35.0  \n",
      "\n",
      "[5 rows x 22 columns]\n"
     ]
    }
   ],
   "source": [
    "personalDF =airlineDF[airlineDF['Type of Travel']== 'Personal Travel']  # creating a dataframe which contaion only personal Travel costumers\n",
    "print(personalDF.head())                                                # print the first five rows to screen\n",
    "businessDF =airlineDF[airlineDF['Type of Travel']== 'Business travel']  # creating a data frame which contaion only Business Travel costumers\n",
    "print(businessDF.head())                                                # print the first five rows to screen"
   ]
  },
  {
   "cell_type": "code",
   "execution_count": 94,
   "id": "6fee456d",
   "metadata": {},
   "outputs": [
    {
     "name": "stdout",
     "output_type": "stream",
     "text": [
      "  satisfaction   Customer Type  Age   Type of Travel Class  Flight Distance  \\\n",
      "0    satisfied  Loyal Customer   65  Personal Travel   Eco              265   \n",
      "2    satisfied  Loyal Customer   15  Personal Travel   Eco             2138   \n",
      "3    satisfied  Loyal Customer   60  Personal Travel   Eco              623   \n",
      "4    satisfied  Loyal Customer   70  Personal Travel   Eco              354   \n",
      "5    satisfied  Loyal Customer   30  Personal Travel   Eco             1894   \n",
      "\n",
      "   Seat comfort  Departure/Arrival time convenient  Food and drink  \\\n",
      "0             0                                  0               0   \n",
      "2             0                                  0               0   \n",
      "3             0                                  0               0   \n",
      "4             0                                  0               0   \n",
      "5             0                                  0               0   \n",
      "\n",
      "   Gate location  ...  Online support  Ease of Online booking  \\\n",
      "0              2  ...               2                       3   \n",
      "2              3  ...               2                       2   \n",
      "3              3  ...               3                       1   \n",
      "4              3  ...               4                       2   \n",
      "5              3  ...               2                       2   \n",
      "\n",
      "   On-board service  Leg room service  Baggage handling  Checkin service  \\\n",
      "0                 3                 0                 3                5   \n",
      "2                 3                 3                 4                4   \n",
      "3                 1                 0                 1                4   \n",
      "4                 2                 0                 2                4   \n",
      "5                 5                 4                 5                5   \n",
      "\n",
      "   Cleanliness  Online boarding  Departure Delay in Minutes  \\\n",
      "0            3                2                           0   \n",
      "2            4                2                           0   \n",
      "3            1                3                           0   \n",
      "4            2                5                           0   \n",
      "5            4                2                           0   \n",
      "\n",
      "   Arrival Delay in Minutes  \n",
      "0                       0.0  \n",
      "2                       0.0  \n",
      "3                       0.0  \n",
      "4                       0.0  \n",
      "5                       0.0  \n",
      "\n",
      "[5 rows x 22 columns]\n",
      "   satisfaction   Customer Type  Age   Type of Travel     Class  \\\n",
      "1     satisfied  Loyal Customer   47  Personal Travel  Business   \n",
      "8     satisfied  Loyal Customer   56  Personal Travel  Business   \n",
      "17    satisfied  Loyal Customer   52  Personal Travel  Business   \n",
      "23    satisfied  Loyal Customer   53  Personal Travel  Business   \n",
      "48    satisfied  Loyal Customer   31  Personal Travel  Business   \n",
      "\n",
      "    Flight Distance  Seat comfort  Departure/Arrival time convenient  \\\n",
      "1              2464             0                                  0   \n",
      "8                73             0                                  0   \n",
      "17             2610             0                                  1   \n",
      "23             1099             0                                  1   \n",
      "48             1599             0                                  1   \n",
      "\n",
      "    Food and drink  Gate location  ...  Online support  \\\n",
      "1                0              3  ...               2   \n",
      "8                0              3  ...               5   \n",
      "17               0              2  ...               2   \n",
      "23               0              2  ...               3   \n",
      "48               0              3  ...               2   \n",
      "\n",
      "    Ease of Online booking  On-board service  Leg room service  \\\n",
      "1                        3                 4                 4   \n",
      "8                        4                 4                 0   \n",
      "17                       1                 1                 0   \n",
      "23                       1                 1                 0   \n",
      "48                       2                 4                 2   \n",
      "\n",
      "    Baggage handling  Checkin service  Cleanliness  Online boarding  \\\n",
      "1                  4                2            3                2   \n",
      "8                  1                5            4                4   \n",
      "17                 1                2            1                3   \n",
      "23                 1                3            1                1   \n",
      "48                 3                3            3                2   \n",
      "\n",
      "    Departure Delay in Minutes  Arrival Delay in Minutes  \n",
      "1                          310                     305.0  \n",
      "8                            0                       0.0  \n",
      "17                           0                       0.0  \n",
      "23                           0                       0.0  \n",
      "48                          10                       0.0  \n",
      "\n",
      "[5 rows x 22 columns]\n",
      "   satisfaction   Customer Type  Age   Type of Travel     Class  \\\n",
      "24    satisfied  Loyal Customer   16  Personal Travel  Eco Plus   \n",
      "30    satisfied  Loyal Customer   62  Personal Travel  Eco Plus   \n",
      "45    satisfied  Loyal Customer   38  Personal Travel  Eco Plus   \n",
      "59    satisfied  Loyal Customer   37  Personal Travel  Eco Plus   \n",
      "69    satisfied  Loyal Customer   49  Personal Travel  Eco Plus   \n",
      "\n",
      "    Flight Distance  Seat comfort  Departure/Arrival time convenient  \\\n",
      "24             1747             0                                  1   \n",
      "30             2948             0                                  1   \n",
      "45             2139             0                                  1   \n",
      "59             1887             0                                  1   \n",
      "69             2497             0                                  1   \n",
      "\n",
      "    Food and drink  Gate location  ...  Online support  \\\n",
      "24               0              2  ...               2   \n",
      "30               0              3  ...               5   \n",
      "45               0              3  ...               5   \n",
      "59               0              3  ...               1   \n",
      "69               0              4  ...               4   \n",
      "\n",
      "    Ease of Online booking  On-board service  Leg room service  \\\n",
      "24                       2                 3                 3   \n",
      "30                       5                 4                 1   \n",
      "45                       5                 3                 5   \n",
      "59                       1                 2                 5   \n",
      "69                       2                 2                 0   \n",
      "\n",
      "    Baggage handling  Checkin service  Cleanliness  Online boarding  \\\n",
      "24                 2                4            3                2   \n",
      "30                 2                2            2                5   \n",
      "45                 3                3            2                5   \n",
      "59                 3                1            3                1   \n",
      "69                 2                3            2                2   \n",
      "\n",
      "    Departure Delay in Minutes  Arrival Delay in Minutes  \n",
      "24                           0                       0.0  \n",
      "30                          34                      19.0  \n",
      "45                           0                       0.0  \n",
      "59                           0                       0.0  \n",
      "69                           9                       0.0  \n",
      "\n",
      "[5 rows x 22 columns]\n"
     ]
    }
   ],
   "source": [
    "ecoDF =airlineDF[airlineDF['Class']== 'Eco']                        # creating a dataframe which contaion only 'Eco' costumers\n",
    "print(ecoDF.head())                                                 # print the first five rows to screen\n",
    "businessclassDF =airlineDF[airlineDF['Class']== 'Business']         # creating a dataframe which contaion only 'Business' costumers\n",
    "print(businessclassDF.head())                                       # print the first five rows to screen\n",
    "ecoplusDF =airlineDF[airlineDF['Class']== 'Eco Plus']               # creating a dataframe which contaion only 'Eco plus' costumers\n",
    "print(ecoplusDF.head())                                             # print the first five rows to screen"
   ]
  },
  {
   "cell_type": "markdown",
   "id": "a15e5960",
   "metadata": {},
   "source": [
    "Question - 3"
   ]
  },
  {
   "cell_type": "code",
   "execution_count": 95,
   "id": "c0313c0d",
   "metadata": {},
   "outputs": [
    {
     "data": {
      "image/png": "[encoded data removed]",
      "text/plain": [
       "<Figure size 640x480 with 1 Axes>"
      ]
     },
     "metadata": {},
     "output_type": "display_data"
    }
   ],
   "source": [
    "list1 =['satisfiedDF', 'dissatisfiedDF', 'personalDF', 'businessDF', 'loyalDF', 'disloyalDF', 'ecoDF', 'businessclassDF', 'ecoplusDF']    #creating a list by assigning features dataframe names \n",
    "plt.hist(satisfiedDF['Age'])           # creating histogram for 'Age' collumn in satisfiedDF dataframe                   \n",
    "plt.show()                             # Display the histogram plot to screen"
   ]
  },
  {
   "cell_type": "code",
   "execution_count": 96,
   "id": "16e64d59",
   "metadata": {},
   "outputs": [
    {
     "data": {
      "image/png": "[encoded data removed]",
      "text/plain": [
       "<Figure size 640x480 with 1 Axes>"
      ]
     },
     "metadata": {},
     "output_type": "display_data"
    }
   ],
   "source": [
    "plt.hist(dissatisfiedDF['Age'])     # creating histogram for 'Age' collumn in dissatisfiedDF dataframe       \n",
    "plt.show()                          # Display the histogram plot to screen"
   ]
  },
  {
   "cell_type": "code",
   "execution_count": 97,
   "id": "edad3837",
   "metadata": {},
   "outputs": [
    {
     "data": {
      "image/png": "[encoded data removed]",
      "text/plain": [
       "<Figure size 640x480 with 1 Axes>"
      ]
     },
     "metadata": {},
     "output_type": "display_data"
    }
   ],
   "source": [
    "plt.hist(personalDF['Age'])     # creating histogram for 'Age' collumn in personaldDF dataframe\n",
    "plt.show()                          # Display the histogram plot to screen"
   ]
  },
  {
   "cell_type": "code",
   "execution_count": 98,
   "id": "ec0c2b22",
   "metadata": {},
   "outputs": [
    {
     "data": {
      "image/png": "[encoded data removed]",
      "text/plain": [
       "<Figure size 640x480 with 1 Axes>"
      ]
     },
     "metadata": {},
     "output_type": "display_data"
    }
   ],
   "source": [
    "plt.hist(businessDF['Age'])     # creating histogram for 'Age' collumn in businessDF dataframe\n",
    "plt.show()                          # Display the histogram plot to screen"
   ]
  },
  {
   "cell_type": "code",
   "execution_count": 99,
   "id": "77709386",
   "metadata": {},
   "outputs": [
    {
     "data": {
      "image/png": "[encoded data removed]",
      "text/plain": [
       "<Figure size 640x480 with 1 Axes>"
      ]
     },
     "metadata": {},
     "output_type": "display_data"
    }
   ],
   "source": [
    "plt.hist(loyalDF['Age'])     # creating histogram for 'Age' collumn in loyalDF dataframe\n",
    "plt.show()                          # Display the histogram plot to screen"
   ]
  },
  {
   "cell_type": "code",
   "execution_count": 100,
   "id": "899f2034",
   "metadata": {},
   "outputs": [
    {
     "data": {
      "image/png": "[encoded data removed]",
      "text/plain": [
       "<Figure size 640x480 with 1 Axes>"
      ]
     },
     "metadata": {},
     "output_type": "display_data"
    }
   ],
   "source": [
    "plt.hist(disloyalDF['Age'])     # creating histogram for 'Age' collumn in disloyalDF dataframe\n",
    "plt.show()                          # Display the histogram plot to screen"
   ]
  },
  {
   "cell_type": "code",
   "execution_count": 101,
   "id": "90abdc03",
   "metadata": {},
   "outputs": [
    {
     "data": {
      "image/png": "[encoded data removed]",
      "text/plain": [
       "<Figure size 640x480 with 1 Axes>"
      ]
     },
     "metadata": {},
     "output_type": "display_data"
    }
   ],
   "source": [
    "plt.hist(ecoDF['Age'])     # creating histogram for 'Age' collumn in ecoDF dataframe\n",
    "plt.show()                          # Display the histogram plot to screen"
   ]
  },
  {
   "cell_type": "code",
   "execution_count": 102,
   "id": "5d43b27b",
   "metadata": {},
   "outputs": [
    {
     "data": {
      "image/png": "[encoded data removed]",
      "text/plain": [
       "<Figure size 640x480 with 1 Axes>"
      ]
     },
     "metadata": {},
     "output_type": "display_data"
    }
   ],
   "source": [
    "plt.hist(businessclassDF['Age'])     # creating histogram for 'Age' collumn in businessclassDF dataframe\n",
    "plt.show()                          # Display the histogram plot to screen"
   ]
  },
  {
   "cell_type": "code",
   "execution_count": 103,
   "id": "2cfa822c",
   "metadata": {},
   "outputs": [
    {
     "data": {
      "image/png": "[encoded data removed]",
      "text/plain": [
       "<Figure size 640x480 with 1 Axes>"
      ]
     },
     "metadata": {},
     "output_type": "display_data"
    }
   ],
   "source": [
    "plt.hist(ecoplusDF['Age'])     # creating histogram for 'Age' collumn in ecoplusDF dataframe\n",
    "plt.show()                          # Display the histogram plot to screen"
   ]
  },
  {
   "cell_type": "markdown",
   "id": "756f794d",
   "metadata": {},
   "source": [
    "Question - 4"
   ]
  },
  {
   "cell_type": "code",
   "execution_count": 104,
   "id": "c6c2b1b5",
   "metadata": {},
   "outputs": [
    {
     "name": "stdout",
     "output_type": "stream",
     "text": [
      "{1963: 92, 1812: 88, 1639: 87, 1981: 86, 1789: 86, 1766: 83, 1759: 83, 1748: 82, 2022: 81, 1769: 81, 1747: 80, 1767: 80, 1628: 79, 1752: 79, 1629: 79, 1838: 79, 1635: 78, 1560: 78, 1772: 78, 1779: 78, 2097: 78, 1953: 78, 1873: 78, 1966: 78, 1725: 78, 1780: 78, 1668: 77, 1803: 77, 1851: 77, 1758: 77, 1693: 77, 2179: 77, 1894: 77, 1755: 77, 1960: 77, 2068: 77, 1784: 77, 1594: 77, 1734: 76, 1548: 76, 1774: 76, 1816: 76, 2017: 76, 1857: 76, 1984: 76, 1681: 76, 1653: 76, 1933: 75, 1917: 75, 1771: 75, 1836: 75, 1728: 75, 1644: 75, 2011: 75, 1890: 75, 1825: 75, 1875: 75, 1718: 75, 1844: 74, 2059: 74, 1925: 74, 1781: 74, 1988: 74, 1595: 74, 2010: 74, 1679: 74, 1815: 74, 2131: 73, 1797: 73, 1633: 73, 1961: 73, 2218: 73, 1757: 73, 1619: 73, 1839: 73, 1551: 73, 1756: 73, 1746: 73, 2114: 73, 1625: 73, 1862: 73, 1630: 73, 1632: 72, 1900: 72, 1647: 72, 1795: 72, 1856: 72, 1871: 72, 1777: 72, 1923: 72, 1552: 72, 2026: 72, 1786: 72, 2109: 72, 1765: 72, 1893: 72, 2007: 72, 1737: 72, 1990: 72, 1651: 72, 1664: 72, 2063: 72, 1850: 72, 1666: 71, 1674: 71, 1680: 71, 2047: 71, 1760: 71, 2054: 71, 2025: 71, 1994: 71, 1799: 71, 2058: 71, 1975: 71, 1965: 71, 1660: 71, 1952: 71, 1810: 71, 1627: 71, 1951: 71, 1869: 71, 1980: 70, 1930: 70, 1778: 70, 1730: 70, 1879: 70, 2176: 70, 1616: 70, 1928: 70, 2146: 70, 1646: 70, 1617: 70, 2018: 70, 1776: 70, 1599: 70, 1898: 70, 1989: 70, 1787: 69, 1970: 69, 2066: 69, 1714: 69, 1750: 69, 1949: 69, 1754: 69, 2003: 69, 2250: 69, 1962: 69, 1751: 69, 1605: 69, 1724: 69, 2151: 69, 1697: 69, 1820: 69, 1914: 69, 2169: 69, 1553: 68, 2118: 68, 2088: 68, 1658: 68, 2045: 68, 1913: 68, 1948: 68, 1905: 68, 1694: 68, 1796: 68, 1742: 68, 2052: 68, 1764: 68, 1991: 68, 2144: 68, 1881: 68, 1549: 68, 1955: 68, 1986: 68, 1740: 68, 1938: 68, 1841: 68, 1739: 67, 2266: 67, 1612: 67, 1676: 67, 1822: 67, 2029: 67, 1702: 67, 1615: 67, 1846: 67, 2012: 67, 1624: 67, 1507: 67, 1652: 67, 1885: 67, 1613: 67, 1946: 67, 2132: 67, 2149: 67, 1902: 67, 2039: 67, 1592: 67, 1707: 67, 1587: 67, 1958: 67, 1732: 67, 2031: 66, 2083: 66, 1559: 66, 1897: 66, 1959: 66, 1657: 66, 2166: 66, 2093: 66, 1709: 66, 2002: 66, 1649: 66, 2034: 66, 2172: 66, 1978: 66, 1876: 66, 1874: 66, 1459: 66, 1597: 66, 2072: 66, 1899: 66, 1640: 66, 1824: 65, 1749: 65, 1700: 65, 1997: 65, 1788: 65, 2125: 65, 1853: 65, 1655: 65, 1920: 65, 1494: 65, 1722: 65, 1939: 65, 1861: 65, 1745: 65, 1782: 65, 2037: 65, 1770: 65, 1562: 65, 1581: 65, 1670: 65, 1643: 65, 1969: 65, 2092: 65, 2173: 65, 1792: 65, 1998: 65, 1918: 65, 1638: 65, 1773: 65, 1802: 65, 1823: 64, 2157: 64, 1711: 64, 1800: 64, 1849: 64, 1813: 64, 1979: 64, 1621: 64, 1886: 64, 1590: 64, 2082: 64, 1791: 64, 1611: 64, 1940: 64, 2001: 64, 1929: 64, 1837: 64, 2005: 64, 1705: 64, 1565: 64, 1870: 64, 2174: 64, 2488: 64, 1716: 64, 2148: 64, 1609: 64, 1956: 64, 1944: 64, 1798: 64, 1865: 64, 1582: 64, 2195: 64, 1663: 64, 1525: 64, 1534: 64, 1895: 64, 2062: 64, 1906: 64, 1563: 63, 1878: 63, 2175: 63, 1583: 63, 2048: 63, 1667: 63, 2044: 63, 1972: 63, 1712: 63, 1864: 63, 1721: 63, 2140: 63, 1909: 63, 2196: 63, 1908: 63, 1826: 63, 1541: 63, 2080: 63, 1763: 63, 1753: 63, 1793: 63, 1892: 63, 2161: 63, 1996: 63, 2091: 63, 1634: 63, 1993: 63, 2016: 63, 1976: 62, 1601: 62, 1943: 62, 1999: 62, 1631: 62, 2021: 62, 2203: 62, 2095: 62, 2108: 62, 1598: 62, 1957: 62, 1529: 62, 1859: 62, 1690: 62, 1910: 62, 2023: 62, 1729: 62, 1992: 62, 1783: 62, 1860: 62, 1731: 62, 2287: 62, 1814: 62, 2038: 62, 1726: 62, 1950: 62, 1889: 62, 2264: 62, 1903: 62, 1896: 61, 2105: 61, 1931: 61, 2065: 61, 1926: 61, 1478: 61, 2084: 61, 1832: 61, 1579: 61, 2188: 61, 2000: 61, 1834: 61, 1794: 61, 1768: 61, 2107: 61, 1596: 61, 1610: 61, 1717: 61, 1884: 61, 1911: 61, 2102: 61, 2009: 61, 1695: 61, 2137: 61, 2130: 61, 2134: 61, 2162: 61, 1723: 61, 2292: 61, 2056: 61, 2126: 61, 1569: 61, 1539: 61, 1927: 60, 1801: 60, 2217: 60, 2296: 60, 2129: 60, 2153: 60, 1790: 60, 1526: 60, 2154: 60, 1808: 60, 1636: 60, 1540: 60, 1805: 60, 1425: 60, 1833: 60, 2064: 60, 1947: 60, 1571: 60, 2103: 60, 2199: 60, 1935: 60, 2117: 60, 2135: 60, 1916: 60, 1971: 60, 1775: 60, 2147: 60, 1706: 60, 2123: 60, 2078: 60, 2050: 60, 1854: 60, 2182: 60, 1982: 60, 2210: 60, 2090: 60, 2245: 60, 2152: 60, 1872: 60, 1968: 60, 1987: 60, 1738: 59, 1932: 59, 2006: 59, 2077: 59, 2116: 59, 2076: 59, 1967: 59, 1964: 59, 1736: 59, 1527: 59, 2211: 59, 1662: 59, 2159: 59, 1603: 59, 1698: 59, 1741: 59, 1620: 59, 1568: 59, 2197: 59, 2184: 59, 1818: 59, 1847: 59, 1683: 59, 1556: 59, 1476: 59, 2268: 59, 1720: 59, 2115: 59, 1622: 59, 2085: 59, 1922: 59, 1804: 59, 1614: 59, 1807: 59, 1546: 59, 2265: 59, 1843: 59, 1665: 59, 2004: 59, 1887: 59, 1704: 59, 2089: 58, 1423: 58, 1835: 58, 1606: 58, 1604: 58, 2237: 58, 1995: 58, 2242: 58, 1623: 58, 1934: 58, 1912: 58, 2320: 58, 1915: 58, 1518: 58, 2075: 58, 2106: 58, 2178: 58, 1809: 58, 1867: 58, 1454: 58, 2352: 58, 2158: 58, 1842: 58, 2112: 58, 1645: 58, 1696: 58, 2015: 58, 2318: 58, 1699: 58, 2215: 58, 1785: 58, 2096: 58, 2099: 58, 2165: 58, 2071: 58, 2136: 58, 2458: 57, 1924: 57, 1891: 57, 1761: 57, 1648: 57, 1985: 57, 1471: 57, 1475: 57, 1547: 57, 2046: 57, 2191: 57, 1578: 57, 1733: 57, 1661: 57, 1743: 57, 2081: 57, 1855: 57, 2070: 57, 1727: 57, 1637: 57, 2330: 57, 1863: 57, 2042: 57, 2128: 57, 2145: 57, 1692: 57, 1554: 57, 1880: 57, 1538: 57, 2053: 57, 1945: 57, 2020: 57, 2049: 57, 1535: 57, 2019: 57, 1688: 57, 2035: 57, 1512: 57, 1829: 56, 1642: 56, 1907: 56, 1830: 56, 1656: 56, 1580: 56, 1626: 56, 2113: 56, 2122: 56, 1589: 56, 1558: 56, 1811: 56, 2260: 56, 1819: 56, 2073: 56, 2074: 56, 1901: 56, 2433: 56, 1936: 56, 1719: 56, 1533: 56, 1919: 56, 2160: 56, 1708: 56, 1588: 56, 1406: 56, 2067: 56, 2033: 56, 1941: 56, 1537: 56, 2390: 56, 2014: 56, 2249: 56, 2013: 56, 1840: 56, 1641: 56, 2087: 56, 1584: 56, 2220: 56, 2027: 56, 1937: 56, 1650: 56, 2202: 56, 1523: 56, 2329: 56, 2216: 56, 1882: 55, 2206: 55, 2141: 55, 2181: 55, 2171: 55, 1744: 55, 1904: 55, 1600: 55, 2238: 55, 2252: 55, 2222: 55, 2230: 55, 2127: 55, 1528: 55, 2008: 55, 2364: 55, 2225: 55, 2186: 55, 1585: 55, 2223: 55, 2139: 55, 1845: 55, 1848: 55, 2180: 55, 2224: 55, 2228: 55, 1654: 55, 1888: 55, 2460: 55, 1511: 55, 1686: 55, 1685: 55, 2274: 55, 1509: 55, 1852: 55, 2098: 55, 1682: 55, 2028: 55, 1618: 55, 2240: 55, 2471: 55, 2293: 54, 2207: 54, 342: 54, 2094: 54, 2079: 54, 1827: 54, 2138: 54, 1687: 54, 1499: 54, 2285: 54, 1691: 54, 1536: 54, 2337: 54, 2439: 54, 2156: 54, 1762: 54, 2243: 54, 2060: 54, 2336: 54, 2101: 54, 1433: 54, 1586: 54, 2057: 54, 1555: 54, 1543: 54, 2421: 54, 1531: 54, 2251: 54, 1710: 54, 2248: 54, 1868: 54, 1550: 53, 2314: 53, 2267: 53, 2262: 53, 1921: 53, 1522: 53, 2360: 53, 1713: 53, 2276: 53, 2155: 53, 2241: 53, 1497: 53, 2255: 53, 2119: 53, 1576: 53, 1532: 53, 2291: 53, 1573: 53, 1983: 53, 2349: 53, 1567: 53, 1828: 53, 2317: 53, 1467: 53, 1489: 53, 2193: 53, 1470: 53, 1442: 53, 2369: 53, 2194: 53, 2051: 53, 1817: 53, 2467: 53, 1607: 53, 2358: 53, 1942: 53, 2571: 53, 2465: 53, 1564: 52, 2512: 52, 1974: 52, 1495: 52, 2456: 52, 1488: 52, 1593: 52, 2552: 52, 1570: 52, 1689: 52, 2167: 52, 2506: 52, 1466: 52, 2298: 52, 2069: 52, 2200: 52, 2177: 52, 2201: 52, 1575: 52, 1460: 52, 2487: 52, 1715: 52, 2142: 52, 2121: 52, 1659: 52, 2464: 52, 2289: 52, 1703: 52, 2032: 52, 2257: 52, 2036: 52, 2133: 52, 2469: 52, 2350: 51, 1672: 51, 1831: 51, 2303: 51, 341: 51, 343: 51, 2304: 51, 1572: 51, 2402: 51, 1977: 51, 1483: 51, 2190: 51, 2341: 51, 2124: 51, 2398: 51, 1516: 51, 2111: 51, 2380: 51, 1448: 51, 1973: 51, 1821: 51, 2406: 51, 1502: 51, 1463: 51, 1735: 51, 1544: 51, 273: 51, 1468: 51, 2120: 51, 2164: 51, 2438: 51, 2354: 51, 1465: 51, 2489: 51, 1449: 51, 2388: 51, 2348: 51, 2299: 51, 1401: 51, 1866: 51, 2505: 50, 2541: 50, 2219: 50, 1432: 50, 2254: 50, 1450: 50, 2333: 50, 1403: 50, 1481: 50, 2163: 50, 2357: 50, 2170: 50, 2425: 50, 2450: 50, 2281: 50, 2247: 50, 2344: 50, 2321: 50, 2306: 50, 1429: 50, 2204: 50, 1566: 50, 1678: 50, 2227: 50, 271: 50, 449: 50, 2521: 50, 2484: 50, 2055: 50, 1486: 50, 2413: 50, 2168: 50, 2596: 50, 2384: 50, 2297: 50, 2187: 50, 2477: 50, 2332: 50, 2522: 50, 2185: 50, 2043: 50, 1519: 50, 1514: 50, 1485: 50, 2353: 50, 1440: 50, 2603: 50, 1487: 49, 1472: 49, 1669: 49, 2041: 49, 1482: 49, 1542: 49, 2525: 49, 2492: 49, 2322: 49, 238: 49, 2061: 49, 2347: 49, 1877: 49, 1484: 49, 2235: 49, 1457: 49, 2325: 49, 1411: 49, 2502: 49, 2229: 49, 2408: 49, 2086: 49, 2324: 49, 1858: 49, 1409: 49, 2192: 49, 1431: 49, 2205: 49, 1501: 49, 2524: 49, 1424: 48, 2209: 48, 2198: 48, 2275: 48, 2236: 48, 1561: 48, 2221: 48, 1491: 48, 1445: 48, 2312: 48, 1441: 48, 2300: 48, 237: 48, 1677: 48, 463: 48, 1602: 48, 2327: 48, 2308: 48, 2379: 47, 1477: 47, 88: 47, 2345: 47, 1883: 47, 371: 47, 2481: 47, 2246: 47, 2286: 47, 2342: 47, 2446: 47, 2214: 47, 466: 47, 2507: 47, 355: 47, 444: 47, 1524: 47, 2256: 47, 379: 47, 98: 47, 1426: 47, 453: 47, 2599: 47, 2310: 47, 1517: 47, 2307: 47, 2319: 47, 2370: 47, 2295: 47, 1591: 47, 1370: 47, 2441: 46, 451: 46, 306: 46, 2269: 46, 2494: 46, 248: 46, 1461: 46, 1608: 46, 1577: 46, 1479: 46, 2024: 46, 2030: 46, 344: 46, 2233: 46, 2290: 46, 2279: 46, 266: 46, 2316: 46, 1492: 46, 2451: 46, 2455: 46, 2334: 46, 2231: 46, 1456: 46, 2253: 46, 2375: 46, 1574: 46, 2529: 46, 2328: 46, 2376: 46, 2600: 46, 2183: 46, 2040: 46, 2374: 46, 2305: 46, 2371: 46, 1496: 46, 1510: 45, 2605: 45, 2270: 45, 382: 45, 1458: 45, 2282: 45, 2212: 45, 2540: 45, 2302: 45, 2288: 45, 2482: 45, 1520: 45, 1410: 45, 2277: 45, 2100: 45, 2373: 45, 2466: 45, 1557: 45, 1379: 45, 1508: 45, 2516: 45, 352: 45, 2718: 45, 2510: 45, 1675: 45, 2326: 45, 457: 45, 2520: 45, 233: 45, 2367: 45, 2280: 45, 362: 45, 1701: 45, 2261: 44, 2448: 44, 2407: 44, 1421: 44, 1334: 44, 2602: 44, 408: 44, 2415: 44, 2258: 44, 1290: 44, 2340: 44, 2583: 44, 1684: 44, 340: 44, 1359: 44, 1474: 44, 305: 44, 2598: 44, 1500: 44, 1480: 44, 2568: 44, 2476: 44, 1504: 44, 2429: 44, 262: 44, 2189: 44, 2564: 44, 346: 44, 1443: 44, 1498: 44, 1513: 44, 2414: 44, 2426: 44, 2457: 44, 1446: 44, 2382: 43, 2213: 43, 2475: 43, 2311: 43, 2395: 43, 2368: 43, 2403: 43, 2284: 43, 2434: 43, 2239: 43, 2470: 43, 440: 43, 2517: 43, 1381: 43, 2539: 43, 2584: 43, 2143: 43, 2608: 43, 491: 43, 1407: 43, 1360: 43, 1505: 43, 1530: 43, 275: 43, 1453: 43, 235: 43, 2514: 43, 338: 43, 2244: 43, 2393: 43, 333: 43, 251: 43, 99: 43, 1405: 43, 2150: 43, 2636: 42, 2294: 42, 2272: 42, 2331: 42, 357: 42, 450: 42, 2208: 42, 2273: 42, 1246: 42, 2490: 42, 2401: 42, 2378: 42, 1332: 42, 2343: 42, 97: 42, 1422: 42, 1230: 42, 1437: 42, 2391: 42, 1473: 42, 1451: 42, 2363: 42, 2622: 42, 2497: 42, 2420: 42, 1515: 42, 2483: 42, 2366: 42, 2381: 42, 2604: 42, 2480: 42, 2351: 42, 2537: 42, 2668: 42, 353: 42, 2359: 42, 354: 42, 2385: 42, 90: 42, 245: 42, 468: 42, 2526: 42, 84: 42, 1373: 42, 2610: 42, 2545: 42, 2554: 42, 1374: 41, 2628: 41, 1455: 41, 2323: 41, 2472: 41, 2486: 41, 2621: 41, 2626: 41, 386: 41, 2386: 41, 1394: 41, 2587: 41, 2365: 41, 1350: 41, 89: 41, 410: 41, 592: 41, 1391: 41, 2625: 41, 2591: 41, 1399: 41, 259: 41, 2444: 41, 2547: 41, 2383: 41, 1400: 41, 1954: 41, 2437: 41, 2580: 41, 2609: 41, 2418: 41, 2590: 41, 433: 41, 2432: 41, 2436: 41, 364: 41, 452: 41, 2555: 41, 1415: 41, 1283: 41, 1673: 41, 1304: 41, 2411: 41, 2473: 41, 1506: 41, 2301: 41, 2491: 41, 1462: 41, 1363: 41, 2498: 41, 1420: 40, 2389: 40, 1439: 40, 345: 40, 1357: 40, 1375: 40, 2461: 40, 2397: 40, 414: 40, 1342: 40, 369: 40, 1216: 40, 2232: 40, 438: 40, 2372: 40, 2478: 40, 1806: 40, 1325: 40, 2597: 40, 1389: 40, 2271: 40, 2361: 40, 1397: 40, 373: 40, 2463: 40, 1133: 40, 2585: 40, 336: 40, 2479: 40, 2557: 40, 404: 40, 1417: 40, 360: 40, 257: 40, 2503: 40, 2530: 40, 1392: 40, 1427: 40, 2629: 40, 1413: 40, 458: 39, 2234: 39, 2553: 39, 1229: 39, 2339: 39, 2449: 39, 339: 39, 1340: 39, 2468: 39, 391: 39, 1434: 39, 2499: 39, 2694: 39, 2616: 39, 2419: 39, 1361: 39, 270: 39, 2409: 39, 2632: 39, 2442: 39, 2259: 39, 2226: 39, 1493: 39, 462: 39, 2647: 39, 2412: 39, 2422: 39, 2508: 39, 2283: 39, 1383: 39, 1190: 39, 400: 39, 2346: 39, 316: 39, 2509: 39, 430: 39, 1521: 39, 332: 39, 2392: 39, 2518: 39, 2548: 39, 385: 39, 2660: 39, 2574: 38, 1109: 38, 434: 38, 331: 38, 1233: 38, 628: 38, 255: 38, 472: 38, 1503: 38, 2263: 38, 1419: 38, 366: 38, 479: 38, 1284: 38, 387: 38, 955: 38, 240: 38, 1232: 38, 281: 38, 2532: 38, 2528: 38, 2711: 38, 2309: 38, 2700: 38, 1545: 38, 593: 38, 1418: 38, 2454: 38, 2513: 38, 1362: 38, 2278: 38, 2404: 38, 2533: 38, 1209: 38, 409: 38, 1390: 38, 1223: 38, 2614: 38, 2427: 38, 1412: 38, 1352: 38, 356: 38, 263: 38, 329: 38, 82: 38, 2570: 38, 2593: 38, 1339: 38, 2768: 38, 1104: 38, 625: 38, 2558: 38, 2573: 38, 2428: 38, 1239: 38, 2750: 38, 370: 38, 2612: 38, 325: 38, 2511: 38, 1327: 37, 1438: 37, 2623: 37, 623: 37, 2631: 37, 634: 37, 2527: 37, 2635: 37, 1308: 37, 234: 37, 1393: 37, 1295: 37, 2362: 37, 2496: 37, 389: 37, 91: 37, 290: 37, 1337: 37, 609: 37, 2771: 37, 2394: 37, 2688: 37, 1305: 37, 2701: 37, 631: 37, 1287: 37, 2431: 37, 588: 37, 2577: 37, 1402: 37, 1272: 37, 269: 37, 1201: 37, 419: 37, 424: 37, 2110: 37, 2531: 37, 2556: 37, 432: 37, 2423: 37, 436: 37, 1103: 37, 258: 37, 254: 37, 1378: 36, 562: 36, 1435: 36, 2658: 36, 683: 36, 2561: 36, 1395: 36, 368: 36, 467: 36, 2338: 36, 1220: 36, 442: 36, 2746: 36, 1386: 36, 2399: 36, 2680: 36, 459: 36, 280: 36, 351: 36, 374: 36, 412: 36, 2715: 36, 2634: 36, 268: 36, 261: 36, 470: 36, 2459: 36, 2515: 36, 2576: 36, 1444: 36, 2485: 36, 478: 36, 1428: 36, 2816: 36, 629: 36, 2435: 36, 334: 36, 2519: 36, 2452: 36, 1262: 36, 594: 36, 1330: 36, 1380: 36, 2453: 36, 375: 36, 2670: 36, 461: 36, 312: 36, 406: 36, 2462: 36, 2586: 36, 94: 36, 2731: 36, 2447: 36, 1271: 36, 243: 36, 1309: 36, 2567: 36, 2355: 36, 315: 36, 2377: 36, 2779: 36, 2417: 36, 350: 36, 2560: 36, 1093: 36, 621: 35, 1414: 35, 2405: 35, 2620: 35, 417: 35, 1671: 35, 218: 35, 405: 35, 308: 35, 1490: 35, 253: 35, 1265: 35, 249: 35, 476: 35, 1267: 35, 624: 35, 381: 35, 441: 35, 2729: 35, 448: 35, 2474: 35, 1013: 35, 95: 35, 1199: 35, 2430: 35, 283: 35, 1388: 35, 1324: 35, 377: 35, 2440: 35, 2806: 35, 1347: 35, 2615: 35, 411: 35, 1396: 35, 347: 35, 1436: 35, 1302: 35, 2682: 35, 465: 35, 475: 35, 2618: 35, 2582: 35, 2638: 35, 2565: 35, 2674: 35, 878: 35, 236: 35, 2730: 35, 1333: 35, 2543: 35, 1217: 35, 1198: 35, 643: 35, 2504: 35, 2724: 35, 1447: 35, 2770: 34, 2501: 34, 228: 34, 1464: 34, 252: 34, 1469: 34, 361: 34, 1430: 34, 1416: 34, 445: 34, 570: 34, 2315: 34, 1321: 34, 1213: 34, 2633: 34, 597: 34, 598: 34, 202: 34, 1045: 34, 2410: 34, 1404: 34, 93: 34, 1280: 34, 2762: 34, 2588: 34, 2578: 34, 239: 34, 2387: 34, 203: 34, 435: 34, 1355: 34, 474: 34, 2613: 34, 1376: 34, 264: 34, 83: 34, 230: 34, 328: 34, 2104: 34, 2581: 34, 250: 34, 2592: 34, 418: 34, 2717: 34, 256: 34, 2791: 34, 380: 34, 79: 34, 2313: 34, 394: 34, 1341: 34, 1249: 34, 1273: 33, 464: 33, 272: 33, 1237: 33, 614: 33, 358: 33, 2652: 33, 1254: 33, 2575: 33, 1408: 33, 2646: 33, 439: 33, 348: 33, 2544: 33, 2642: 33, 497: 33, 1364: 33, 229: 33, 980: 33, 1384: 33, 427: 33, 2594: 33, 296: 33, 1207: 33, 2651: 33, 1343: 33, 2665: 33, 2695: 33, 1035: 33, 2335: 33, 2624: 33, 1175: 33, 1193: 33, 2714: 33, 2523: 33, 2400: 33, 2752: 33, 278: 33, 1311: 33, 2914: 33, 630: 33, 2601: 33, 616: 33, 303: 33, 284: 33, 1348: 33, 227: 33, 2579: 33, 2356: 33, 330: 32, 958: 32, 2696: 32, 2500: 32, 2886: 32, 2650: 32, 553: 32, 2669: 32, 2735: 32, 365: 32, 383: 32, 363: 32, 949: 32, 637: 32, 224: 32, 1063: 32, 1052: 32, 1398: 32, 2559: 32, 2741: 32, 2637: 32, 2653: 32, 86: 32, 2424: 32, 2732: 32, 1205: 32, 318: 32, 2837: 32, 1452: 32, 636: 32, 1345: 32, 92: 32, 2720: 32, 1263: 32, 407: 32, 1242: 32, 1149: 32, 2607: 32, 437: 32, 2767: 32, 1256: 32, 1358: 32, 1264: 32, 469: 32, 226: 32, 1353: 32, 1172: 32, 1235: 32, 2617: 32, 376: 32, 372: 32, 1064: 32, 2802: 32, 423: 32, 309: 32, 2739: 32, 973: 32, 1368: 32, 384: 32, 1372: 32, 510: 32, 2534: 32, 415: 32, 446: 32, 302: 32, 2662: 32, 1194: 32, 1121: 32, 968: 32, 1338: 32, 426: 32, 2645: 32, 428: 32, 596: 31, 2666: 31, 525: 31, 455: 31, 612: 31, 2948: 31, 2606: 31, 2734: 31, 550: 31, 1291: 31, 206: 31, 1033: 31, 2535: 31, 2850: 31, 416: 31, 1286: 31, 1099: 31, 2935: 31, 1315: 31, 2495: 31, 2445: 31, 1203: 31, 1135: 31, 2777: 31, 314: 31, 2691: 31, 2595: 31, 590: 31, 2854: 31, 396: 31, 1212: 31, 1248: 31, 96: 31, 1351: 31, 512: 31, 2549: 31, 1320: 31, 76: 31, 274: 31, 443: 31, 997: 31, 1070: 31, 1022: 31, 1132: 31, 2643: 31, 1314: 31, 2396: 31, 1369: 31, 2649: 31, 322: 31, 294: 31, 2875: 31, 429: 31, 420: 31, 1382: 31, 2659: 31, 1028: 31, 425: 31, 503: 31, 286: 31, 1136: 31, 1385: 31, 209: 31, 367: 31, 327: 31, 2569: 31, 1322: 31, 647: 31, 2893: 31, 292: 31, 2563: 31, 978: 31, 1200: 31, 2725: 31, 2538: 31, 1279: 31, 277: 31, 2939: 31, 288: 31, 231: 31, 2747: 31, 2443: 30, 319: 30, 2657: 30, 1219: 30, 698: 30, 2648: 30, 388: 30, 602: 30, 985: 30, 2856: 30, 207: 30, 1183: 30, 2722: 30, 2416: 30, 1238: 30, 1307: 30, 484: 30, 2799: 30, 1144: 30, 2619: 30, 287: 30, 2740: 30, 2723: 30, 1313: 30, 568: 30, 421: 30, 775: 30, 908: 30, 1250: 30, 2627: 30, 589: 30, 399: 30, 635: 30, 2846: 30, 265: 30, 1215: 30, 3010: 30, 495: 30, 2667: 30, 403: 30, 1134: 30, 2905: 30, 984: 30, 1318: 30, 1301: 30, 87: 30, 56: 30, 378: 30, 2687: 30, 1076: 30, 575: 30, 1060: 30, 317: 30, 1107: 30, 2796: 30, 1118: 30, 622: 30, 2823: 30, 2887: 30, 1231: 30, 1165: 30, 485: 30, 529: 30, 618: 30, 279: 30, 1312: 30, 2693: 30, 2546: 30, 1255: 30, 911: 30, 605: 30, 714: 30, 549: 30, 1354: 29, 1294: 29, 1331: 29, 324: 29, 1139: 29, 2966: 29, 460: 29, 2663: 29, 500: 29, 2671: 29, 1116: 29, 1196: 29, 201: 29, 2825: 29, 260: 29, 2710: 29, 617: 29, 483: 29, 244: 29, 1061: 29, 2562: 29, 1079: 29, 1356: 29, 2589: 29, 1285: 29, 1189: 29, 2852: 29, 320: 29, 401: 29, 1258: 29, 872: 29, 482: 29, 447: 29, 884: 29, 1166: 29, 2821: 29, 349: 29, 2836: 29, 1275: 29, 1032: 29, 1228: 29, 1018: 29, 556: 29, 393: 29, 1257: 29, 959: 29, 599: 29, 1170: 29, 2707: 29, 2654: 29, 431: 29, 1090: 29, 1221: 29, 1204: 29, 1227: 29, 1299: 29, 875: 29, 1288: 29, 2716: 29, 1023: 29, 2493: 29, 1276: 29, 80: 29, 1278: 29, 633: 29, 519: 29, 548: 29, 204: 29, 1241: 29, 1091: 29, 276: 29, 2673: 29, 1153: 29, 2536: 29, 2719: 29, 2928: 29, 494: 29, 307: 29, 1030: 29, 335: 29, 1365: 29, 1387: 28, 2679: 28, 205: 28, 2704: 28, 569: 28, 957: 28, 1247: 28, 608: 28, 225: 28, 1029: 28, 595: 28, 1111: 28, 326: 28, 1266: 28, 53: 28, 962: 28, 2681: 28, 2915: 28, 2753: 28, 2697: 28, 2763: 28, 304: 28, 1143: 28, 583: 28, 2542: 28, 2902: 28, 496: 28, 864: 28, 242: 28, 1274: 28, 2748: 28, 684: 28, 2798: 28, 2728: 28, 566: 28, 584: 28, 2817: 28, 561: 28, 2926: 28, 359: 28, 2918: 28, 3272: 28, 73: 28, 2872: 28, 2843: 28, 2692: 28, 1092: 28, 1155: 28, 1367: 28, 3009: 28, 241: 28, 477: 28, 392: 28, 1106: 28, 1058: 28, 291: 28, 311: 28, 282: 28, 1015: 28, 2881: 28, 473: 28, 2842: 28, 1059: 28, 2890: 28, 3026: 28, 2819: 28, 509: 28, 200: 28, 3185: 28, 2950: 28, 2683: 28, 1323: 28, 1081: 28, 2684: 28, 2784: 28, 893: 28, 1048: 28, 2656: 28, 648: 28, 1195: 28, 413: 28, 2811: 28, 2853: 28, 554: 28, 2759: 28, 961: 27, 2869: 27, 2776: 27, 493: 27, 247: 27, 2809: 27, 2873: 27, 1017: 27, 454: 27, 1260: 27, 2678: 27, 1167: 27, 2812: 27, 1112: 27, 690: 27, 232: 27, 2772: 27, 689: 27, 2807: 27, 1095: 27, 656: 27, 966: 27, 2883: 27, 390: 27, 1236: 27, 2677: 27, 1031: 27, 551: 27, 1041: 27, 766: 27, 974: 27, 2550: 27, 1366: 27, 1245: 27, 2551: 27, 398: 27, 85: 27, 1156: 27, 75: 27, 530: 27, 498: 27, 217: 27, 632: 27, 981: 27, 267: 27, 3041: 27, 1282: 27, 2899: 27, 1141: 27, 1007: 27, 456: 27, 1335: 27, 422: 27, 77: 27, 1168: 27, 2751: 27, 1142: 27, 70: 27, 212: 27, 1234: 27, 898: 27, 2792: 27, 1281: 27, 1225: 27, 2972: 27, 1268: 27, 1371: 27, 1097: 27, 1259: 27, 970: 27, 222: 27, 945: 27, 2804: 27, 2838: 27, 532: 27, 2833: 27, 313: 27, 1328: 27, 682: 27, 1114: 26, 586: 26, 3118: 26, 2676: 26, 3218: 26, 527: 26, 2705: 26, 1008: 26, 1115: 26, 873: 26, 858: 26, 638: 26, 1344: 26, 882: 26, 2934: 26, 700: 26, 2644: 26, 2963: 26, 1020: 26, 2906: 26, 2742: 26, 1137: 26, 1082: 26, 1053: 26, 2745: 26, 2774: 26, 1066: 26, 975: 26, 2765: 26, 2870: 26, 2664: 26, 2661: 26, 2686: 26, 221: 26, 3260: 26, 2764: 26, 2860: 26, 1001: 26, 1296: 26, 1163: 26, 868: 26, 1319: 26, 652: 26, 1261: 26, 3112: 26, 1123: 26, 1253: 26, 220: 26, 676: 26, 1016: 26, 792: 26, 74: 26, 694: 26, 2983: 26, 859: 26, 2847: 26, 1240: 26, 639: 26, 559: 26, 2640: 26, 1218: 26, 1130: 26, 3470: 26, 867: 26, 1150: 26, 310: 26, 1243: 26, 2733: 26, 722: 26, 1102: 26, 3670: 26, 555: 26, 2712: 26, 223: 26, 1154: 26, 2738: 26, 490: 26, 321: 26, 544: 26, 986: 26, 1329: 26, 644: 26, 1197: 26, 2689: 26, 620: 26, 72: 26, 1094: 26, 1346: 26, 2639: 25, 3062: 25, 606: 25, 1122: 25, 979: 25, 3387: 25, 102: 25, 1056: 25, 552: 25, 2756: 25, 215: 25, 1005: 25, 3153: 25, 1289: 25, 3015: 25, 507: 25, 2743: 25, 208: 25, 1310: 25, 542: 25, 543: 25, 2829: 25, 2780: 25, 501: 25, 2699: 25, 1110: 25, 1326: 25, 2912: 25, 3244: 25, 2655: 25, 601: 25, 1214: 25, 1145: 25, 2911: 25, 580: 25, 1169: 25, 912: 25, 3469: 25, 2630: 25, 1124: 25, 323: 25, 2749: 25, 81: 25, 2814: 25, 2953: 25, 2868: 25, 3240: 25, 1078: 25, 1026: 25, 2766: 25, 488: 25, 2895: 25, 874: 25, 998: 25, 871: 25, 3413: 25, 879: 25, 886: 25, 2572: 25, 1316: 25, 1113: 25, 2788: 25, 2783: 25, 300: 25, 1126: 25, 3089: 25, 834: 25, 3012: 25, 2713: 25, 1040: 25, 613: 25, 2703: 25, 1131: 25, 1377: 25, 402: 25, 1206: 24, 2727: 24, 1176: 24, 2793: 24, 564: 24, 1085: 24, 2952: 24, 557: 24, 547: 24, 1252: 24, 591: 24, 3440: 24, 1300: 24, 2988: 24, 2898: 24, 2968: 24, 2736: 24, 2818: 24, 1036: 24, 565: 24, 3403: 24, 685: 24, 642: 24, 59: 24, 2922: 24, 988: 24, 3115: 24, 2917: 24, 1293: 24, 285: 24, 2782: 24, 889: 24, 3277: 24, 2907: 24, 2840: 24, 3021: 24, 3297: 24, 3984: 24, 2566: 24, 3798: 24, 1303: 24, 64: 24, 1128: 24, 1138: 24, 1038: 24, 3284: 24, 502: 24, 581: 24, 1292: 24, 771: 24, 604: 24, 3653: 24, 2810: 24, 2933: 24, 2885: 24, 1089: 24, 2951: 24, 481: 24, 2757: 24, 906: 24, 3126: 24, 891: 24, 2986: 24, 1119: 24, 2685: 24, 219: 24, 63: 24, 1185: 24, 1210: 24, 2909: 24, 3269: 24, 1046: 24, 1050: 24, 492: 24, 2901: 24, 3154: 24, 71: 24, 2971: 24, 3353: 24, 2789: 24, 735: 23, 587: 23, 691: 23, 2830: 23, 539: 23, 3969: 23, 499: 23, 2947: 23, 650: 23, 2787: 23, 1171: 23, 1211: 23, 2888: 23, 2813: 23, 1037: 23, 3164: 23, 3428: 23, 692: 23, 3838: 23, 1084: 23, 1186: 23, 946: 23, 1098: 23, 2925: 23, 1120: 23, 1002: 23, 1027: 23, 860: 23, 576: 23, 1180: 23, 3177: 23, 558: 23, 2848: 23, 3793: 23, 853: 23, 3106: 23, 508: 23, 2721: 23, 3603: 23, 1019: 23, 2708: 23, 2995: 23, 925: 23, 2964: 23, 951: 23, 3178: 23, 885: 23, 526: 23, 3119: 23, 2884: 23, 2979: 23, 78: 23, 2786: 23, 2878: 23, 1146: 23, 1192: 23, 657: 23, 913: 23, 213: 23, 619: 23, 651: 23, 2611: 23, 3117: 23, 2800: 23, 486: 23, 2944: 23, 994: 23, 2726: 23, 1057: 23, 210: 23, 2871: 23, 645: 23, 62: 23, 976: 23, 3369: 23, 3484: 23, 515: 23, 487: 23, 480: 23, 706: 23, 3205: 23, 289: 23, 3005: 23, 1226: 23, 3179: 23, 50: 23, 600: 23, 3006: 23, 3665: 23, 1127: 23, 2834: 23, 953: 23, 1184: 23, 2794: 23, 2641: 23, 1178: 23, 582: 23, 654: 23, 1244: 23, 611: 23, 954: 22, 3794: 22, 2982: 22, 679: 22, 931: 22, 2990: 22, 2959: 22, 2709: 22, 563: 22, 615: 22, 3134: 22, 1162: 22, 3779: 22, 3294: 22, 2903: 22, 963: 22, 2862: 22, 1157: 22, 3196: 22, 67: 22, 738: 22, 1039: 22, 1270: 22, 2967: 22, 55: 22, 928: 22, 902: 22, 672: 22, 2754: 22, 3454: 22, 246: 22, 3209: 22, 668: 22, 1024: 22, 937: 22, 3796: 22, 2904: 22, 1074: 22, 2946: 22, 3282: 22, 3148: 22, 3721: 22, 3003: 22, 2864: 22, 3082: 22, 2877: 22, 2866: 22, 2785: 22, 1067: 22, 2773: 22, 3081: 22, 2672: 22, 2965: 22, 3424: 22, 969: 22, 2955: 22, 697: 22, 610: 22, 1222: 22, 797: 22, 2932: 22, 1151: 22, 1297: 22, 3059: 22, 2845: 22, 2824: 22, 741: 22, 1083: 22, 754: 22, 3504: 22, 1003: 22, 3147: 22, 1349: 22, 952: 22, 2790: 22, 1224: 22, 3051: 22, 881: 22, 505: 22, 1336: 22, 996: 22, 876: 22, 533: 22, 1051: 22, 1088: 22, 2775: 22, 757: 22, 999: 22, 3181: 22, 956: 22, 910: 22, 1010: 22, 1014: 22, 712: 22, 3151: 22, 504: 22, 3359: 22, 777: 22, 3123: 22, 1000: 22, 2943: 22, 890: 22, 856: 22, 2835: 22, 2889: 22, 3937: 22, 2820: 22, 967: 22, 3343: 22, 627: 22, 2945: 22, 649: 22, 3075: 22, 2897: 22, 3394: 22, 877: 22, 3522: 21, 2827: 21, 3528: 21, 888: 21, 1049: 21, 3515: 21, 68: 21, 471: 21, 52: 21, 2855: 21, 965: 21, 109: 21, 522: 21, 2849: 21, 2863: 21, 3100: 21, 1042: 21, 983: 21, 3395: 21, 1011: 21, 517: 21, 57: 21, 3681: 21, 603: 21, 2900: 21, 2879: 21, 3171: 21, 2954: 21, 3327: 21, 869: 21, 3726: 21, 3095: 21, 640: 21, 769: 21, 1191: 21, 3323: 21, 216: 21, 3166: 21, 1187: 21, 69: 21, 2803: 21, 2941: 21, 577: 21, 1182: 21, 3447: 21, 2826: 21, 51: 21, 2993: 21, 1117: 21, 3383: 21, 2994: 21, 3233: 21, 2987: 21, 2976: 21, 585: 21, 2832: 21, 897: 21, 2937: 21, 2844: 21, 540: 21, 671: 21, 825: 21, 3298: 21, 740: 21, 3289: 21, 809: 21, 703: 21, 678: 21, 2985: 21, 1306: 21, 686: 21, 3781: 21, 2942: 21, 3315: 21, 521: 21, 3043: 21, 54: 21, 3399: 21, 1164: 21, 3550: 21, 573: 21, 2778: 21, 857: 21, 2769: 21, 2960: 21, 1202: 21, 982: 21, 2992: 21, 674: 21, 3013: 21, 1096: 21, 2797: 21, 2997: 21, 641: 21, 1152: 21, 2737: 21, 916: 21, 862: 21, 3008: 21, 880: 21, 2938: 21, 2839: 21, 2828: 21, 3230: 21, 3276: 21, 806: 21, 1251: 21, 3143: 21, 1129: 21, 1043: 21, 1055: 21, 3949: 21, 3417: 21, 695: 21, 3314: 21, 3634: 21, 3321: 21, 1072: 21, 3234: 21, 3588: 21, 2929: 21, 337: 21, 3187: 21, 3718: 21, 1161: 21, 1148: 21, 702: 20, 397: 20, 1062: 20, 892: 20, 3235: 20, 816: 20, 944: 20, 3542: 20, 3228: 20, 3725: 20, 1012: 20, 1025: 20, 3872: 20, 895: 20, 2880: 20, 3974: 20, 607: 20, 3583: 20, 297: 20, 2891: 20, 3593: 20, 3404: 20, 948: 20, 903: 20, 3868: 20, 3433: 20, 3042: 20, 1075: 20, 3248: 20, 3007: 20, 3067: 20, 2795: 20, 779: 20, 3897: 20, 1080: 20, 3805: 20, 3080: 20, 3157: 20, 2978: 20, 987: 20, 993: 20, 3591: 20, 545: 20, 3728: 20, 3362: 20, 3436: 20, 3752: 20, 3156: 20, 3159: 20, 801: 20, 3135: 20, 3895: 20, 2706: 20, 3486: 20, 665: 20, 3408: 20, 3644: 20, 3192: 20, 3176: 20, 3732: 20, 1021: 20, 211: 20, 3102: 20, 972: 20, 655: 20, 3691: 20, 646: 20, 2859: 20, 2970: 20, 3390: 20, 3024: 20, 3336: 20, 3410: 20, 523: 20, 3057: 20, 3500: 20, 3193: 20, 2916: 20, 1177: 20, 3184: 20, 293: 20, 1140: 20, 681: 20, 579: 20, 863: 20, 60: 20, 670: 20, 506: 20, 753: 20, 761: 20, 3487: 20, 513: 20, 658: 20, 2702: 20, 1105: 20, 3116: 20, 3211: 20, 905: 20, 571: 20, 1101: 20, 3645: 20, 3137: 20, 2958: 20, 3559: 20, 3630: 20, 2858: 20, 3692: 20, 3622: 19, 3292: 19, 3628: 19, 932: 19, 3382: 19, 789: 19, 3001: 19, 2808: 19, 865: 19, 710: 19, 2841: 19, 1125: 19, 3438: 19, 3138: 19, 3532: 19, 2920: 19, 3397: 19, 3249: 19, 3680: 19, 3078: 19, 531: 19, 3771: 19, 723: 19, 3121: 19, 3210: 19, 3878: 19, 3716: 19, 3506: 19, 2675: 19, 1188: 19, 991: 19, 3432: 19, 3881: 19, 3198: 19, 2865: 19, 3064: 19, 3566: 19, 3530: 19, 3188: 19, 2977: 19, 3425: 19, 3824: 19, 3360: 19, 2962: 19, 3401: 19, 2744: 19, 3453: 19, 395: 19, 2876: 19, 3599: 19, 3867: 19, 3422: 19, 516: 19, 3488: 19, 3032: 19, 693: 19, 3070: 19, 3400: 19, 3884: 19, 725: 19, 3825: 19, 3516: 19, 3170: 19, 3052: 19, 3763: 19, 2974: 19, 3587: 19, 664: 19, 3954: 19, 3467: 19, 3122: 19, 934: 19, 2998: 19, 1269: 19, 3527: 19, 3596: 19, 3340: 19, 3149: 19, 995: 19, 940: 19, 3639: 19, 909: 19, 3022: 19, 3351: 19, 3560: 19, 3066: 19, 3175: 19, 1047: 19, 3430: 19, 3963: 19, 3941: 19, 3348: 19, 3194: 19, 3357: 19, 123: 19, 3065: 19, 3839: 19, 1108: 19, 301: 19, 2919: 19, 732: 19, 776: 19, 870: 19, 854: 19, 3892: 19, 3782: 19, 3110: 19, 3930: 19, 3241: 19, 843: 19, 3533: 19, 696: 19, 3377: 19, 3266: 19, 701: 19, 3437: 19, 3761: 19, 839: 19, 786: 19, 3125: 19, 3964: 19, 1317: 19, 2761: 19, 3215: 19, 675: 19, 3338: 19, 2984: 19, 2755: 19, 2815: 19, 790: 19, 780: 19, 2913: 19, 773: 19, 3946: 19, 3507: 19, 3490: 18, 1054: 18, 3333: 18, 3045: 18, 960: 18, 926: 18, 3999: 18, 971: 18, 572: 18, 528: 18, 901: 18, 659: 18, 1100: 18, 904: 18, 711: 18, 3208: 18, 3305: 18, 3275: 18, 3597: 18, 3778: 18, 3002: 18, 2857: 18, 2980: 18, 3247: 18, 3663: 18, 3924: 18, 3570: 18, 2940: 18, 3133: 18, 3844: 18, 1173: 18, 3011: 18, 3578: 18, 3295: 18, 3475: 18, 3739: 18, 3973: 18, 3852: 18, 1298: 18, 680: 18, 687: 18, 3364: 18, 3173: 18, 3455: 18, 866: 18, 1179: 18, 3650: 18, 3063: 18, 3577: 18, 3621: 18, 3202: 18, 3828: 18, 3800: 18, 3654: 18, 3074: 18, 1158: 18, 1069: 18, 721: 18, 3253: 18, 2949: 18, 3217: 18, 3539: 18, 3760: 18, 3476: 18, 3910: 18, 3146: 18, 2874: 18, 514: 18, 1087: 18, 3136: 18, 861: 18, 3958: 18, 1181: 18, 3160: 18, 3724: 18, 3155: 18, 3332: 18, 3813: 18, 3556: 18, 3027: 18, 3047: 18, 930: 18, 2956: 18, 3044: 18, 3212: 18, 3098: 18, 812: 18, 808: 18, 2931: 18, 1086: 18, 3105: 18, 3734: 18, 894: 18, 2698: 18, 3494: 18, 1006: 18, 929: 18, 3474: 18, 3905: 18, 3090: 18, 840: 18, 3795: 18, 3829: 18, 3037: 18, 942: 18, 3841: 18, 2760: 18, 3510: 18, 3358: 18, 3627: 18, 1044: 18, 3636: 18, 3329: 18, 673: 18, 3068: 18, 920: 18, 810: 18, 3168: 18, 1071: 18, 3940: 18, 3826: 18, 1208: 18, 708: 18, 811: 18, 3580: 18, 1073: 18, 707: 18, 3699: 18, 826: 18, 2896: 18, 3270: 18, 3296: 18, 299: 18, 3386: 18, 3554: 17, 3891: 17, 3790: 17, 3109: 17, 61: 17, 3970: 17, 3513: 17, 3753: 17, 3857: 17, 3014: 17, 520: 17, 3807: 17, 3000: 17, 989: 17, 3169: 17, 3381: 17, 815: 17, 3372: 17, 2910: 17, 883: 17, 3004: 17, 3917: 17, 990: 17, 3589: 17, 742: 17, 841: 17, 1068: 17, 3791: 17, 546: 17, 3195: 17, 3766: 17, 3227: 17, 3649: 17, 1160: 17, 2957: 17, 3545: 17, 3451: 17, 713: 17, 3077: 17, 835: 17, 3426: 17, 3687: 17, 2758: 17, 3108: 17, 3568: 17, 3257: 17, 3481: 17, 3464: 17, 3894: 17, 538: 17, 3226: 17, 762: 17, 3458: 17, 3180: 17, 3293: 17, 2851: 17, 3302: 17, 3093: 17, 295: 17, 745: 17, 578: 17, 3882: 17, 1065: 17, 3035: 17, 3673: 17, 799: 17, 3548: 17, 935: 17, 900: 17, 100: 17, 3657: 17, 3713: 17, 3132: 17, 3714: 17, 3113: 17, 3633: 17, 3258: 17, 3174: 17, 3744: 17, 65: 17, 3183: 17, 3637: 17, 778: 17, 3191: 17, 574: 17, 848: 17, 3693: 17, 3860: 17, 924: 17, 3141: 17, 3702: 17, 3096: 17, 110: 17, 1034: 17, 3607: 17, 977: 17, 3664: 17, 3190: 17, 2882: 17, 4011: 17, 1159: 17, 3993: 17, 3479: 17, 3018: 17, 4009: 17, 3485: 17, 2921: 17, 813: 17, 3576: 17, 3658: 17, 736: 17, 3145: 17, 3356: 17, 3821: 17, 2975: 17, 2999: 17, 3590: 17, 3076: 17, 3224: 17, 3322: 17, 66: 17, 3501: 17, 767: 17, 3875: 17, 3287: 17, 719: 17, 3316: 17, 744: 17, 887: 17, 3039: 17, 3799: 16, 2996: 16, 2867: 16, 3406: 16, 3855: 16, 3508: 16, 3331: 16, 737: 16, 3308: 16, 3086: 16, 726: 16, 3038: 16, 3103: 16, 3219: 16, 3609: 16, 3325: 16, 3843: 16, 3407: 16, 3355: 16, 3069: 16, 1077: 16, 3034: 16, 3204: 16, 3773: 16, 518: 16, 718: 16, 2924: 16, 3374: 16, 814: 16, 788: 16, 3914: 16, 626: 16, 3352: 16, 917: 16, 3300: 16, 3017: 16, 805: 16, 770: 16, 3942: 16, 3299: 16, 115: 16, 746: 16, 3107: 16, 104: 16, 828: 16, 3686: 16, 3268: 16, 3263: 16, 298: 16, 3261: 16, 2690: 16, 699: 16, 3988: 16, 3801: 16, 734: 16, 768: 16, 803: 16, 847: 16, 3029: 16, 3816: 16, 3418: 16, 3762: 16, 3419: 16, 3655: 16, 992: 16, 3448: 16, 3384: 16, 716: 16, 3849: 16, 3271: 16, 3337: 16, 709: 16, 3288: 16, 3405: 16, 3960: 16, 837: 16, 3050: 16, 2923: 16, 3757: 16, 653: 16, 3643: 16, 2894: 16, 662: 16, 3543: 16, 677: 16, 1174: 16, 3810: 16, 3595: 16, 705: 16, 3787: 16, 3411: 16, 3023: 16, 2981: 16, 3415: 16, 3033: 16, 3361: 16, 3030: 16, 3312: 16, 214: 16, 560: 16, 3025: 16, 927: 16, 1277: 16, 2781: 16, 3182: 16, 3768: 16, 3130: 16, 3142: 16, 3482: 16, 3092: 16, 3099: 16, 3511: 16, 3040: 16, 3165: 16, 2936: 16, 3111: 16, 830: 16, 3615: 16, 842: 16, 3898: 16, 567: 16, 3461: 15, 3614: 15, 3711: 15, 1004: 15, 800: 15, 3243: 15, 3815: 15, 4005: 15, 3948: 15, 3273: 15, 3788: 15, 3624: 15, 3246: 15, 3998: 15, 833: 15, 782: 15, 3632: 15, 58: 15, 3083: 15, 3060: 15, 3216: 15, 3989: 15, 666: 15, 3427: 15, 669: 15, 2969: 15, 3167: 15, 907: 15, 829: 15, 489: 15, 3831: 15, 3222: 15, 4017: 15, 850: 15, 3586: 15, 2861: 15, 3085: 15, 3280: 15, 823: 15, 3865: 15, 3842: 15, 3840: 15, 3091: 15, 936: 15, 3704: 15, 3048: 15, 3496: 15, 3683: 15, 3459: 15, 3380: 15, 947: 15, 3158: 15, 3957: 15, 4008: 15, 3602: 15, 941: 15, 3620: 15, 3031: 15, 774: 15, 3262: 15, 3564: 15, 3054: 15, 3684: 15, 3618: 15, 3886: 15, 2930: 15, 111: 15, 3186: 15, 3347: 15, 3553: 15, 3225: 15, 3477: 15, 3220: 15, 3444: 15, 3306: 15, 3913: 15, 855: 15, 3774: 15, 3789: 15, 3324: 15, 3334: 15, 3463: 15, 3495: 15, 3740: 15, 3804: 15, 3833: 15, 3710: 15, 2989: 15, 3162: 15, 851: 15, 852: 15, 819: 15, 3236: 15, 3557: 15, 3562: 15, 720: 15, 3152: 15, 3558: 15, 3101: 15, 3551: 15, 781: 15, 3046: 15, 3231: 15, 787: 15, 3341: 15, 3061: 15, 3802: 15, 3434: 15, 3073: 15, 3698: 15, 3378: 15, 3854: 15, 763: 15, 918: 15, 3877: 15, 846: 15, 3393: 15, 3396: 15, 3301: 15, 3674: 15, 3525: 15, 3465: 15, 3373: 15, 3912: 15, 3647: 15, 3114: 15, 660: 15, 3442: 15, 3526: 15, 3944: 15, 3291: 15, 3850: 15, 3575: 15, 3666: 15, 3339: 15, 3932: 15, 3817: 15, 791: 15, 663: 15, 3016: 15, 3421: 15, 3509: 15, 3307: 15, 535: 15, 3678: 15, 3916: 14, 3199: 14, 3540: 14, 3695: 14, 3648: 14, 3304: 14, 3579: 14, 2831: 14, 3250: 14, 3677: 14, 3492: 14, 3449: 14, 3640: 14, 3909: 14, 3758: 14, 3128: 14, 3651: 14, 3452: 14, 824: 14, 3251: 14, 3690: 14, 3097: 14, 3859: 14, 3389: 14, 3858: 14, 3303: 14, 688: 14, 3342: 14, 3376: 14, 3955: 14, 3232: 14, 3908: 14, 915: 14, 3668: 14, 3682: 14, 2805: 14, 3431: 14, 3317: 14, 3931: 14, 3783: 14, 3679: 14, 765: 14, 3582: 14, 2961: 14, 3363: 14, 784: 14, 4001: 14, 3409: 14, 2991: 14, 3879: 14, 715: 14, 3981: 14, 3279: 14, 3402: 14, 3612: 14, 3608: 14, 3544: 14, 3638: 14, 3617: 14, 3207: 14, 3239: 14, 2801: 14, 3529: 14, 2908: 14, 3104: 14, 3697: 14, 3537: 14, 3729: 14, 3523: 14, 3985: 14, 2892: 14, 3290: 14, 3274: 14, 3703: 14, 3720: 14, 3441: 14, 3870: 14, 747: 14, 3392: 14, 3366: 14, 3939: 14, 3827: 14, 3864: 14, 733: 14, 3223: 14, 728: 14, 3572: 14, 3245: 14, 817: 14, 3769: 14, 3491: 14, 939: 14, 3977: 14, 4013: 14, 3471: 14, 3688: 14, 3625: 14, 3604: 14, 4022: 14, 101: 14, 3524: 14, 3976: 14, 1009: 14, 3379: 14, 3574: 14, 3354: 14, 3835: 14, 1147: 14, 3371: 14, 933: 14, 3600: 14, 3473: 14, 3375: 14, 964: 14, 3058: 14, 3736: 14, 3962: 14, 667: 14, 3890: 14, 3915: 14, 121: 14, 3573: 14, 3503: 14, 923: 13, 3536: 13, 3863: 13, 3349: 13, 2927: 13, 4018: 13, 3498: 13, 3552: 13, 731: 13, 717: 13, 3088: 13, 3443: 13, 3671: 13, 112: 13, 3214: 13, 3950: 13, 3056: 13, 3549: 13, 3310: 13, 3124: 13, 3777: 13, 3517: 13, 3370: 13, 3049: 13, 3388: 13, 836: 13, 120: 13, 3806: 13, 3662: 13, 938: 13, 3904: 13, 3571: 13, 106: 13, 4015: 13, 3365: 13, 845: 13, 3635: 13, 3907: 13, 3499: 13, 4003: 13, 921: 13, 3820: 13, 3901: 13, 3661: 13, 3927: 13, 3320: 13, 796: 13, 3929: 13, 749: 13, 3903: 13, 3776: 13, 3876: 13, 3242: 13, 3020: 13, 3923: 13, 896: 13, 772: 13, 3866: 13, 3966: 13, 832: 13, 727: 13, 3770: 13, 3139: 13, 3200: 13, 536: 13, 739: 13, 730: 13, 3947: 13, 3741: 13, 794: 13, 3265: 13, 899: 13, 3466: 13, 844: 13, 4021: 13, 3785: 13, 3534: 13, 3309: 13, 3755: 13, 3140: 13, 524: 13, 3519: 13, 3830: 13, 3986: 13, 3631: 13, 3975: 13, 541: 13, 3811: 13, 3709: 13, 3480: 13, 802: 13, 3094: 13, 3252: 13, 3992: 13, 3629: 13, 3851: 13, 3497: 13, 3837: 13, 3812: 13, 3667: 13, 3189: 13, 3087: 13, 3367: 13, 3906: 13, 3319: 13, 3900: 13, 748: 13, 3131: 13, 2973: 13, 3669: 13, 743: 13, 3120: 13, 804: 13, 3256: 13, 914: 13, 3809: 13, 3368: 13, 3385: 12, 3267: 12, 3555: 12, 3623: 12, 3996: 12, 3982: 12, 3990: 12, 3660: 12, 3797: 12, 3412: 12, 3943: 12, 3918: 12, 3055: 12, 3592: 12, 3731: 12, 3161: 12, 3706: 12, 3605: 12, 3072: 12, 820: 12, 108: 12, 3541: 12, 3335: 12, 3676: 12, 3983: 12, 3616: 12, 3398: 12, 3255: 12, 3856: 12, 3888: 12, 3733: 12, 3874: 12, 3994: 12, 3818: 12, 3873: 12, 3933: 12, 3642: 12, 3959: 12, 3598: 12, 3980: 12, 3750: 12, 3416: 12, 752: 12, 119: 12, 3715: 12, 3445: 12, 822: 12, 3071: 12, 4023: 12, 3935: 12, 3823: 12, 3965: 12, 537: 12, 724: 12, 3784: 12, 3346: 12, 821: 12, 3439: 12, 3429: 12, 760: 12, 3311: 12, 3675: 12, 3722: 12, 3565: 12, 3846: 12, 511: 12, 849: 12, 3853: 12, 3238: 12, 3705: 12, 3460: 12, 3313: 12, 3885: 12, 764: 12, 3689: 12, 3584: 12, 3493: 12, 3780: 12, 3127: 12, 4048: 12, 124: 12, 3764: 12, 3264: 12, 3201: 12, 3712: 12, 783: 12, 3483: 12, 3172: 12, 3808: 12, 3694: 12, 827: 12, 3717: 12, 943: 12, 798: 12, 534: 12, 3129: 12, 3286: 12, 3450: 11, 3920: 11, 3569: 11, 3756: 11, 818: 11, 131: 11, 3749: 11, 3961: 11, 3708: 11, 3254: 11, 3278: 11, 3707: 11, 3902: 11, 922: 11, 950: 11, 3344: 11, 3723: 11, 3746: 11, 118: 11, 4019: 11, 3538: 11, 3285: 11, 3656: 11, 3531: 11, 3652: 11, 3478: 11, 130: 11, 3991: 11, 4031: 11, 2822: 11, 661: 11, 3144: 11, 107: 11, 3197: 11, 3836: 11, 4016: 11, 3446: 11, 3318: 11, 3561: 11, 3206: 11, 3079: 11, 4030: 11, 3735: 11, 3610: 11, 3936: 11, 3345: 11, 3786: 11, 729: 11, 3928: 11, 3053: 11, 4004: 11, 3893: 11, 4024: 11, 3611: 11, 3646: 11, 4014: 11, 3521: 11, 3213: 11, 3719: 11, 3514: 11, 3792: 11, 3203: 11, 3330: 11, 3084: 11, 3696: 11, 3700: 11, 3259: 11, 105: 11, 3921: 11, 3036: 11, 4000: 11, 3489: 11, 3968: 11, 3845: 11, 3563: 11, 3420: 11, 3861: 10, 3163: 10, 3019: 10, 793: 10, 3229: 10, 3819: 10, 3765: 10, 3952: 10, 4307: 10, 3871: 10, 4007: 10, 3237: 10, 3414: 10, 3283: 10, 3899: 10, 4027: 10, 3919: 10, 3956: 10, 3326: 10, 3730: 10, 3979: 10, 3423: 10, 3883: 10, 3727: 10, 3028: 10, 3585: 10, 4012: 10, 3391: 10, 3672: 10, 3925: 10, 4002: 10, 136: 10, 756: 10, 3619: 10, 3547: 10, 3887: 10, 3601: 10, 3747: 10, 3626: 10, 3535: 10, 3951: 10, 838: 10, 4006: 10, 3751: 10, 3869: 10, 3862: 10, 4034: 9, 807: 9, 3742: 9, 3743: 9, 3922: 9, 3581: 9, 3814: 9, 3775: 9, 3848: 9, 3546: 9, 3934: 9, 3745: 9, 3926: 9, 3938: 9, 3945: 9, 751: 9, 3971: 9, 3754: 9, 4170: 9, 3150: 9, 755: 9, 3472: 9, 117: 9, 3967: 9, 4046: 9, 3518: 9, 4111: 9, 3457: 9, 3512: 9, 4267: 9, 3435: 9, 3738: 9, 3606: 9, 3567: 9, 3221: 9, 3972: 9, 3659: 9, 4049: 9, 3889: 9, 3978: 9, 4047: 8, 3997: 8, 3803: 8, 4177: 8, 114: 8, 4387: 8, 3505: 8, 3748: 8, 3995: 8, 3880: 8, 795: 8, 3834: 8, 113: 8, 704: 8, 3896: 8, 3456: 8, 127: 8, 4113: 8, 4035: 8, 3953: 8, 919: 8, 4057: 8, 3701: 8, 3987: 8, 3502: 8, 759: 8, 4134: 8, 4082: 8, 3462: 8, 3641: 8, 4037: 8, 3847: 8, 4137: 8, 3468: 8, 122: 8, 4437: 8, 4029: 8, 4025: 8, 3822: 8, 4204: 8, 4128: 8, 4088: 8, 3772: 8, 785: 8, 758: 8, 3281: 7, 4067: 7, 4865: 7, 4614: 7, 3328: 7, 4096: 7, 3737: 7, 3520: 7, 4350: 7, 4133: 7, 4127: 7, 125: 7, 4171: 7, 3613: 7, 4181: 7, 116: 7, 5109: 7, 4262: 7, 5022: 7, 4290: 7, 4102: 7, 4217: 7, 4644: 7, 4607: 7, 3832: 7, 4189: 7, 4099: 7, 133: 7, 4247: 7, 750: 7, 4044: 7, 4058: 7, 4202: 7, 4069: 7, 4063: 7, 4236: 7, 4193: 7, 4155: 7, 4056: 7, 4164: 7, 831: 7, 4050: 7, 135: 7, 4090: 7, 4263: 7, 4145: 7, 4098: 6, 4185: 6, 4627: 6, 4249: 6, 4203: 6, 4066: 6, 4182: 6, 4186: 6, 4334: 6, 4767: 6, 4572: 6, 5076: 6, 4319: 6, 126: 6, 4544: 6, 4218: 6, 4078: 6, 4739: 6, 4227: 6, 4219: 6, 4020: 6, 4054: 6, 4329: 6, 4737: 6, 140: 6, 4207: 6, 3911: 6, 128: 6, 4039: 6, 4083: 6, 4033: 6, 4010: 6, 4201: 6, 4149: 6, 4238: 6, 4087: 6, 4147: 6, 3594: 6, 4509: 6, 4194: 6, 4756: 6, 4233: 6, 4401: 6, 103: 6, 4396: 6, 4547: 6, 4861: 6, 5280: 6, 4126: 6, 4642: 6, 4753: 6, 4026: 6, 4530: 6, 4543: 6, 4804: 6, 134: 6, 4125: 6, 4092: 6, 4374: 6, 4085: 6, 4166: 6, 4211: 6, 5065: 6, 4882: 6, 4923: 5, 4631: 5, 5127: 5, 4555: 5, 4279: 5, 4342: 5, 5282: 5, 4169: 5, 4716: 5, 4268: 5, 4917: 5, 4337: 5, 4140: 5, 4199: 5, 4774: 5, 4086: 5, 4110: 5, 4264: 5, 4266: 5, 4196: 5, 4518: 5, 4245: 5, 5121: 5, 4809: 5, 5030: 5, 4503: 5, 4762: 5, 4805: 5, 4065: 5, 4077: 5, 4257: 5, 4081: 5, 4540: 5, 4036: 5, 3759: 5, 4172: 5, 4689: 5, 4634: 5, 4609: 5, 4041: 5, 4429: 5, 5147: 5, 5078: 5, 4365: 5, 3685: 5, 4161: 5, 4124: 5, 4360: 5, 4356: 5, 137: 5, 5306: 5, 4407: 5, 4224: 5, 4261: 5, 4191: 5, 4254: 5, 5303: 5, 4154: 5, 4594: 5, 4195: 5, 4084: 5, 4051: 5, 4306: 5, 4210: 5, 4160: 5, 4265: 5, 4055: 5, 4779: 5, 4904: 5, 5175: 5, 4225: 5, 129: 5, 4228: 5, 4089: 5, 4129: 5, 4324: 5, 4032: 5, 4451: 5, 4220: 5, 4393: 5, 4144: 5, 4512: 5, 4516: 5, 4028: 5, 4872: 5, 4382: 5, 4104: 5, 4412: 5, 4143: 5, 4413: 5, 132: 5, 4314: 5, 4323: 5, 4398: 5, 4302: 5, 4351: 5, 4115: 5, 4354: 5, 4272: 5, 4289: 4, 4117: 4, 4687: 4, 4072: 4, 4534: 4, 4352: 4, 4481: 4, 4431: 4, 5505: 4, 4256: 4, 4843: 4, 4184: 4, 4878: 4, 5057: 4, 5068: 4, 4486: 4, 5058: 4, 5104: 4, 4064: 4, 4426: 4, 4436: 4, 4706: 4, 4221: 4, 4800: 4, 5110: 4, 5132: 4, 4100: 4, 4953: 4, 4821: 4, 4867: 4, 4906: 4, 4778: 4, 4131: 4, 4901: 4, 4573: 4, 4646: 4, 4669: 4, 4467: 4, 4458: 4, 4053: 4, 5171: 4, 4258: 4, 5155: 4, 4746: 4, 5007: 4, 4338: 4, 5019: 4, 5144: 4, 5264: 4, 4135: 4, 4325: 4, 5693: 4, 4974: 4, 4527: 4, 4463: 4, 5208: 4, 4564: 4, 4168: 4, 5221: 4, 4499: 4, 4535: 4, 4068: 4, 4461: 4, 5036: 4, 4608: 4, 4653: 4, 4242: 4, 4079: 4, 4571: 4, 5135: 4, 4545: 4, 4786: 4, 4107: 4, 4497: 4, 4105: 4, 4040: 4, 4151: 4, 4845: 4, 4213: 4, 4162: 4, 4251: 4, 4625: 4, 4473: 4, 4554: 4, 5200: 4, 4345: 4, 5060: 4, 4121: 4, 4729: 4, 4870: 4, 5088: 4, 4284: 4, 4548: 4, 4506: 4, 4109: 4, 5142: 4, 4772: 4, 4060: 4, 4045: 4, 4178: 4, 4783: 4, 4226: 4, 4502: 4, 4378: 4, 4695: 4, 4139: 4, 4237: 4, 4108: 4, 4248: 4, 4282: 4, 4231: 4, 4299: 4, 4093: 4, 4313: 4, 4074: 4, 3350: 4, 4464: 4, 4857: 4, 4320: 4, 5764: 4, 4484: 4, 4120: 4, 4385: 4, 4052: 4, 4909: 4, 5403: 4, 5245: 4, 4840: 4, 4630: 4, 4460: 4, 5399: 4, 4694: 4, 4165: 4, 3767: 4, 4288: 4, 5091: 4, 4316: 4, 4391: 4, 4491: 4, 4559: 4, 4163: 4, 4806: 4, 4456: 4, 4523: 4, 4404: 4, 4798: 4, 4727: 4, 4159: 4, 4332: 4, 4076: 4, 5000: 4, 4563: 4, 4073: 4, 4343: 4, 4062: 4, 4122: 4, 4946: 4, 4505: 4, 4375: 4, 4234: 4, 4637: 4, 4446: 4, 4510: 4, 4723: 3, 4926: 3, 4167: 3, 4656: 3, 4253: 3, 4897: 3, 4576: 3, 4664: 3, 4321: 3, 5337: 3, 5164: 3, 4367: 3, 4574: 3, 4259: 3, 4500: 3, 4416: 3, 4815: 3, 5119: 3, 5406: 3, 4938: 3, 5453: 3, 4359: 3, 4957: 3, 5140: 3, 4846: 3, 143: 3, 4994: 3, 5181: 3, 4148: 3, 4819: 3, 4942: 3, 5273: 3, 5525: 3, 4940: 3, 5021: 3, 5328: 3, 4934: 3, 4541: 3, 4876: 3, 5084: 3, 4657: 3, 4106: 3, 4278: 3, 5159: 3, 5087: 3, 4042: 3, 4119: 3, 4937: 3, 4702: 3, 4728: 3, 4511: 3, 4645: 3, 4569: 3, 4414: 3, 4570: 3, 4537: 3, 4672: 3, 4285: 3, 4854: 3, 4851: 3, 4208: 3, 4721: 3, 4941: 3, 4522: 3, 5247: 3, 4390: 3, 5020: 3, 4579: 3, 4487: 3, 4566: 3, 4556: 3, 4976: 3, 5002: 3, 4814: 3, 4466: 3, 4577: 3, 4286: 3, 4492: 3, 4604: 3, 5033: 3, 4442: 3, 5395: 3, 5069: 3, 5094: 3, 4411: 3, 4206: 3, 5146: 3, 4831: 3, 4581: 3, 4439: 3, 5193: 3, 4758: 3, 4176: 3, 4952: 3, 4996: 3, 4493: 3, 4816: 3, 4654: 3, 4388: 3, 5129: 3, 4658: 3, 4584: 3, 5284: 3, 4312: 3, 4744: 3, 5037: 3, 4183: 3, 4863: 3, 4513: 3, 4961: 3, 4838: 3, 4397: 3, 5168: 3, 5359: 3, 4383: 3, 4655: 3, 5366: 3, 5086: 3, 5056: 3, 4448: 3, 4101: 3, 4600: 3, 4725: 3, 4802: 3, 4707: 3, 4508: 3, 4803: 3, 4417: 3, 5017: 3, 4546: 3, 4822: 3, 5102: 3, 5044: 3, 5594: 3, 4198: 3, 5308: 3, 4153: 3, 5192: 3, 4472: 3, 4488: 3, 4526: 3, 4434: 3, 4239: 3, 4879: 3, 4424: 3, 4828: 3, 4459: 3, 5214: 3, 5122: 3, 4515: 3, 5225: 3, 4470: 3, 4489: 3, 4835: 3, 4667: 3, 4770: 3, 4638: 3, 4943: 3, 5032: 3, 4205: 3, 5456: 3, 4562: 3, 5008: 3, 4273: 3, 4425: 3, 4150: 3, 4141: 3, 4907: 3, 5484: 3, 4215: 3, 5128: 3, 4241: 3, 4188: 3, 4384: 3, 4450: 3, 4389: 3, 4190: 3, 4368: 3, 5190: 3, 4192: 3, 4988: 3, 5741: 3, 145: 3, 4187: 3, 4362: 3, 4930: 3, 4295: 3, 5271: 3, 4855: 3, 4718: 3, 4717: 3, 147: 3, 4380: 3, 4402: 3, 4200: 3, 4471: 3, 4468: 3, 4455: 3, 4235: 3, 4661: 3, 5312: 3, 141: 3, 5167: 3, 4560: 3, 5469: 3, 4462: 3, 4209: 3, 4392: 3, 4703: 3, 4097: 3, 4142: 3, 5001: 3, 4369: 3, 4333: 3, 4441: 3, 4520: 3, 4443: 3, 4615: 3, 4430: 3, 5178: 3, 4790: 3, 4395: 3, 4929: 3, 4960: 3, 5414: 3, 4152: 3, 4114: 3, 4635: 3, 5396: 3, 5011: 3, 4287: 3, 138: 3, 4419: 3, 4130: 3, 4674: 3, 4692: 3, 139: 3, 4599: 3, 5216: 3, 4311: 3, 4075: 3, 5603: 3, 4476: 3, 4297: 3, 4712: 3, 4445: 3, 4490: 3, 4675: 3, 4959: 3, 4283: 3, 4475: 3, 4908: 3, 4250: 3, 4381: 3, 4696: 3, 4704: 3, 4270: 3, 4361: 3, 4244: 3, 4592: 3, 5311: 3, 4421: 3, 5354: 2, 5758: 2, 4399: 2, 4304: 2, 5368: 2, 5009: 2, 4603: 2, 5438: 2, 5004: 2, 5694: 2, 4504: 2, 4629: 2, 4132: 2, 4454: 2, 5433: 2, 4331: 2, 4315: 2, 4277: 2, 4950: 2, 142: 2, 5361: 2, 4967: 2, 5523: 2, 5822: 2, 5141: 2, 4918: 2, 4364: 2, 4764: 2, 4710: 2, 4565: 2, 5047: 2, 5274: 2, 5145: 2, 4650: 2, 5160: 2, 4688: 2, 5349: 2, 4792: 2, 4496: 2, 4280: 2, 4136: 2, 4612: 2, 5015: 2, 5486: 2, 4602: 2, 4116: 2, 5089: 2, 5151: 2, 4405: 2, 4216: 2, 4112: 2, 4059: 2, 4886: 2, 4622: 2, 4348: 2, 4987: 2, 4379: 2, 5608: 2, 4180: 2, 5332: 2, 4789: 2, 4731: 2, 4438: 2, 4423: 2, 5288: 2, 4842: 2, 4740: 2, 4229: 2, 4336: 2, 4301: 2, 5457: 2, 5560: 2, 4598: 2, 4726: 2, 5591: 2, 4636: 2, 4676: 2, 5588: 2, 4671: 2, 4585: 2, 5070: 2, 4427: 2, 5209: 2, 4780: 2, 4771: 2, 4759: 2, 4682: 2, 5045: 2, 4859: 2, 4665: 2, 4844: 2, 5148: 2, 4732: 2, 5150: 2, 5534: 2, 4925: 2, 5038: 2, 4818: 2, 4038: 2, 5241: 2, 5549: 2, 4118: 2, 146: 2, 5158: 2, 4447: 2, 5157: 2, 5725: 2, 5529: 2, 4308: 2, 5342: 2, 4947: 2, 4933: 2, 5495: 2, 5242: 2, 4991: 2, 4643: 2, 4610: 2, 4363: 2, 4984: 2, 4761: 2, 4274: 2, 4551: 2, 4826: 2, 5492: 2, 4837: 2, 5116: 2, 4848: 2, 4691: 2, 4697: 2, 5620: 2, 4777: 2, 4735: 2, 5023: 2, 4474: 2, 5304: 2, 4494: 2, 5092: 2, 5136: 2, 5305: 2, 4971: 2, 4639: 2, 148: 2, 4529: 2, 4318: 2, 5519: 2, 5352: 2, 4949: 2, 4275: 2, 4965: 2, 4968: 2, 5130: 2, 5376: 2, 4964: 2, 5066: 2, 4670: 2, 5272: 2, 5310: 2, 5031: 2, 4366: 2, 4797: 2, 5179: 2, 4091: 2, 4432: 2, 5407: 2, 4514: 2, 4663: 2, 4944: 2, 4061: 2, 4386: 2, 5224: 2, 4713: 2, 4330: 2, 4922: 2, 5165: 2, 4824: 2, 4580: 2, 4611: 2, 4749: 2, 5097: 2, 4747: 2, 5539: 2, 5191: 2, 4619: 2, 194: 2, 4536: 2, 4400: 2, 4793: 2, 5006: 2, 5511: 2, 4478: 2, 5234: 2, 5244: 2, 4103: 2, 4174: 2, 5217: 2, 4294: 2, 5319: 2, 4291: 2, 4094: 2, 5026: 2, 5172: 2, 4346: 2, 4589: 2, 5351: 2, 4341: 2, 4479: 2, 4834: 2, 5106: 2, 4158: 2, 4915: 2, 4482: 2, 5099: 2, 5162: 2, 5188: 2, 4372: 2, 4355: 2, 4784: 2, 4651: 2, 5299: 2, 5387: 2, 4246: 2, 4596: 2, 4927: 2, 4640: 2, 4517: 2, 4070: 2, 4370: 2, 5568: 2, 4539: 2, 4538: 2, 4745: 2, 5131: 2, 4841: 2, 4557: 2, 4652: 2, 4628: 2, 4648: 2, 4322: 2, 4377: 2, 5294: 2, 4773: 2, 4292: 2, 4825: 2, 5572: 2, 5149: 2, 5290: 2, 4358: 2, 4327: 2, 5535: 2, 4895: 2, 4898: 2, 5250: 2, 5521: 2, 4668: 2, 4519: 2, 5075: 2, 5117: 2, 4892: 2, 4685: 2, 4962: 2, 5755: 2, 4754: 2, 5397: 2, 4873: 2, 4243: 2, 5114: 2, 5347: 2, 5139: 2, 4982: 2, 5400: 2, 4785: 2, 4862: 2, 5227: 2, 4080: 2, 4986: 2, 4807: 2, 5277: 2, 4146: 2, 4197: 2, 5296: 2, 5090: 2, 4659: 2, 4936: 2, 4864: 2, 4422: 2, 4705: 2, 4743: 2, 5507: 2, 4720: 2, 4752: 2, 5567: 2, 5101: 2, 4709: 2, 5041: 2, 5073: 2, 4978: 2, 4586: 2, 6907: 2, 4768: 2, 4230: 2, 4736: 2, 5389: 2, 5014: 2, 5080: 2, 4932: 2, 5005: 2, 4763: 2, 5154: 2, 4995: 2, 4887: 2, 5260: 2, 4525: 2, 5576: 2, 4477: 2, 4811: 2, 5607: 2, 4693: 2, 4919: 2, 4684: 2, 4970: 2, 4403: 2, 5255: 2, 4955: 2, 5204: 2, 4157: 2, 4617: 2, 5278: 2, 5024: 2, 4349: 2, 4373: 2, 5570: 2, 4850: 2, 4830: 2, 5143: 2, 4175: 2, 5380: 2, 4457: 2, 4820: 2, 4597: 1, 5458: 1, 4869: 1, 5163: 1, 5714: 1, 5616: 1, 5286: 1, 5381: 1, 4587: 1, 5654: 1, 5468: 1, 5230: 1, 5100: 1, 5212: 1, 4293: 1, 6595: 1, 4928: 1, 5865: 1, 5186: 1, 5658: 1, 5105: 1, 5371: 1, 5536: 1, 5513: 1, 5508: 1, 5374: 1, 6532: 1, 4677: 1, 6828: 1, 5173: 1, 4708: 1, 6734: 1, 6063: 1, 5524: 1, 4856: 1, 4852: 1, 5559: 1, 4849: 1, 5252: 1, 4616: 1, 5472: 1, 5643: 1, 5564: 1, 5861: 1, 5138: 1, 4590: 1, 4877: 1, 4409: 1, 6672: 1, 5341: 1, 5226: 1, 5964: 1, 6120: 1, 6139: 1, 6664: 1, 4812: 1, 6950: 1, 5806: 1, 4871: 1, 5410: 1, 4552: 1, 4794: 1, 5323: 1, 4998: 1, 4781: 1, 5478: 1, 5445: 1, 5320: 1, 4660: 1, 6361: 1, 6324: 1, 5797: 1, 5189: 1, 4730: 1, 5835: 1, 4623: 1, 5500: 1, 5970: 1, 5198: 1, 4353: 1, 5161: 1, 5473: 1, 5637: 1, 5243: 1, 4542: 1, 4641: 1, 5270: 1, 5935: 1, 4810: 1, 4921: 1, 4480: 1, 5504: 1, 5324: 1, 6325: 1, 6201: 1, 6131: 1, 4647: 1, 5623: 1, 5064: 1, 5174: 1, 4595: 1, 4969: 1, 4452: 1, 5565: 1, 4533: 1, 4686: 1, 6948: 1, 5237: 1, 5205: 1, 4760: 1, 5169: 1, 4914: 1, 5464: 1, 4440: 1, 4885: 1, 5786: 1, 5259: 1, 4883: 1, 4956: 1, 5369: 1, 4945: 1, 5554: 1, 5617: 1, 5358: 1, 5587: 1, 4317: 1, 4741: 1, 5522: 1, 5302: 1, 5345: 1, 5063: 1, 5736: 1, 5842: 1, 5621: 1, 4621: 1, 4524: 1, 6468: 1, 5618: 1, 5382: 1, 5427: 1, 5071: 1, 4889: 1, 5832: 1, 5120: 1, 5253: 1, 5054: 1, 4766: 1, 5034: 1, 5722: 1, 4620: 1, 5429: 1, 5421: 1, 5197: 1, 5638: 1, 5542: 1, 4568: 1, 4755: 1, 5497: 1, 5509: 1, 4757: 1, 5516: 1, 5498: 1, 5538: 1, 4874: 1, 4507: 1, 5081: 1, 4410: 1, 5461: 1, 4606: 1, 5585: 1, 4817: 1, 5411: 1, 5606: 1, 5471: 1, 5340: 1, 5770: 1, 163: 1, 5152: 1, 168: 1, 6740: 1, 6676: 1, 5552: 1, 6868: 1, 6924: 1, 5757: 1, 5313: 1, 4839: 1, 4138: 1, 6363: 1, 6232: 1, 5338: 1, 5184: 1, 4981: 1, 5050: 1, 5487: 1, 5412: 1, 6312: 1, 5010: 1, 6763: 1, 4340: 1, 5329: 1, 4335: 1, 5776: 1, 5194: 1, 180: 1, 4972: 1, 5721: 1, 4911: 1, 6097: 1, 4269: 1, 5577: 1, 4173: 1, 5431: 1, 4179: 1, 5605: 1, 5652: 1, 4912: 1, 5537: 1, 5575: 1, 4550: 1, 5025: 1, 5440: 1, 5439: 1, 5051: 1, 5124: 1, 4495: 1, 4588: 1, 4469: 1, 4896: 1, 5766: 1, 4916: 1, 5571: 1, 5262: 1, 5894: 1, 5674: 1, 5258: 1, 5562: 1, 4271: 1, 5185: 1, 4832: 1, 5170: 1, 5426: 1, 5331: 1, 5417: 1, 5195: 1, 5624: 1, 5557: 1, 5222: 1, 4303: 1, 4156: 1, 6099: 1, 5325: 1, 5213: 1, 4829: 1, 5527: 1, 4376: 1, 4223: 1, 5356: 1, 5330: 1, 4449: 1, 5481: 1, 4357: 1, 5459: 1, 4214: 1, 5240: 1, 5404: 1, 5798: 1, 192: 1, 6889: 1, 5107: 1, 5053: 1, 144: 1, 6951: 1, 4715: 1, 4549: 1, 6837: 1, 5236: 1, 5203: 1, 5746: 1, 5934: 1, 6792: 1, 5344: 1, 4765: 1, 5540: 1, 5267: 1, 5717: 1, 4795: 1, 5699: 1, 5223: 1, 6591: 1, 153: 1, 5048: 1, 4880: 1, 5016: 1, 5742: 1, 5977: 1, 5665: 1, 5945: 1, 4788: 1, 5602: 1, 5256: 1, 5385: 1, 4980: 1, 4485: 1, 5393: 1, 6078: 1, 4415: 1, 5082: 1, 4593: 1, 6571: 1, 5474: 1, 5293: 1, 5514: 1, 5415: 1, 5816: 1, 5510: 1, 4252: 1, 6166: 1, 6244: 1, 186: 1, 5322: 1, 5907: 1, 5580: 1, 6470: 1, 5098: 1, 5108: 1, 4624: 1, 4858: 1, 4975: 1, 5307: 1, 5843: 1, 4690: 1, 5316: 1, 6117: 1, 5532: 1, 5857: 1, 4428: 1, 5454: 1, 6813: 1, 6604: 1, 4711: 1, 5137: 1, 5423: 1, 6510: 1, 4733: 1, 5287: 1, 5372: 1, 6588: 1, 5201: 1, 5211: 1, 5391: 1, 4444: 1, 5493: 1, 4954: 1, 4935: 1, 5028: 1, 5692: 1, 6522: 1, 4823: 1, 4997: 1, 5813: 1, 4501: 1, 5558: 1, 6787: 1, 5035: 1, 4532: 1, 5778: 1, 4300: 1, 4420: 1, 5218: 1, 4833: 1, 5432: 1, 5375: 1, 5112: 1, 4328: 1, 5708: 1, 4951: 1, 4860: 1, 5413: 1, 5055: 1, 5012: 1, 5206: 1, 4662: 1, 4890: 1, 4673: 1, 5920: 1, 4240: 1, 5850: 1, 4553: 1, 5061: 1, 5541: 1, 4893: 1, 4791: 1, 4347: 1, 4531: 1, 4903: 1, 5040: 1, 4521: 1, 5818: 1, 6225: 1, 4305: 1, 5673: 1, 4408: 1, 5364: 1, 5499: 1, 5348: 1, 5732: 1, 4799: 1, 4836: 1, 5555: 1, 6584: 1, 5436: 1, 4913: 1, 5343: 1, 4993: 1, 4714: 1, 4963: 1, 4801: 1, 4498: 1, 4891: 1, 6373: 1, 4724: 1, 5520: 1, 4339: 1, 5604: 1, 5648: 1, 4281: 1, 5496: 1, 5275: 1, 4418: 1, 6655: 1, 4344: 1, 5182: 1, 5062: 1, 5291: 1, 5737: 1, 6119: 1, 5046: 1, 5430: 1, 4406: 1, 5292: 1, 6126: 1, 5984: 1, 5834: 1, 4750: 1, 5229: 1, 4776: 1, 6041: 1, 5187: 1, 6811: 1, 5315: 1, 4095: 1, 5753: 1, 4775: 1, 4866: 1, 6598: 1, 4371: 1, 4123: 1, 5470: 1, 5518: 1, 4902: 1, 4613: 1, 6503: 1, 6193: 1, 6531: 1, 6537: 1, 5327: 1, 5353: 1, 6536: 1, 4973: 1, 5482: 1, 4310: 1, 4719: 1, 5477: 1, 4649: 1, 4433: 1, 4680: 1, 5502: 1, 4808: 1, 6865: 1, 4868: 1, 6882: 1, 5202: 1, 5601: 1, 4575: 1, 5386: 1, 4966: 1, 5449: 1, 6344: 1, 6646: 1, 6816: 1, 5339: 1, 4985: 1, 4296: 1, 5625: 1, 5096: 1, 5281: 1, 5479: 1, 5246: 1, 5924: 1, 6733: 1, 5257: 1, 4999: 1, 5676: 1, 5867: 1, 4881: 1, 5574: 1, 5418: 1, 4222: 1, 5049: 1, 5378: 1, 5613: 1, 4260: 1}\n",
      "Number of distinct routes for the airline is: 5398\n"
     ]
    }
   ],
   "source": [
    "frequency_dictonary = airlineDF['Flight Distance'].value_counts().to_dict()    # Creating a dictonary by calculating the frequency of each flight distance\n",
    "\n",
    "print(frequency_dictonary)                         # prints the dictonary to the screen\n",
    "\n",
    "print('Number of distinct routes for the airline is:', len(frequency_dictonary))  # prints the length of dictonary to screen\n"
   ]
  },
  {
   "cell_type": "markdown",
   "id": "10f55fb8",
   "metadata": {},
   "source": [
    "Question-5"
   ]
  },
  {
   "cell_type": "code",
   "execution_count": 105,
   "id": "a076d33f",
   "metadata": {},
   "outputs": [],
   "source": [
    "surveyColumns = airlineDF.columns[6:].to_list()      # convering the columns of airlineDF from index 6 to a list            "
   ]
  },
  {
   "cell_type": "code",
   "execution_count": 106,
   "id": "38746d41",
   "metadata": {},
   "outputs": [
    {
     "name": "stdout",
     "output_type": "stream",
     "text": [
      "[3.145652510304275, 2.969108275774755, 3.0104379141052515, 2.976085641537834, 3.521459619902373, 4.024308242013308, 3.983259949076484, 3.9847510796629484, 3.8719456440699425, 3.8442471900628807, 3.969488092056213, 3.645954956602473, 3.9773938976184113, 3.751965900938287, 12.154768101059265, 12.268883496515336]\n"
     ]
    }
   ],
   "source": [
    "satisfiedlist=[]                                                   # creating an empty list\n",
    "for i in range(len(surveyColumns)):                                # iterates through each column in SurveyColumns\n",
    "    satisfiedlist.append(np.mean(satisfiedDF[surveyColumns[i]]))   # calculate the mean of each column in satisfiedDF and append it to satisfieslist\n",
    "print(satisfiedlist)                                               # prints the list with averages to screen"
   ]
  },
  {
   "cell_type": "code",
   "execution_count": 107,
   "id": "5ec66a23",
   "metadata": {},
   "outputs": [
    {
     "name": "stdout",
     "output_type": "stream",
     "text": [
      "[2.4673345466297008, 3.016685659857466, 2.660418757335057, 3.0077560253771707, 2.919854404435902, 2.608643886176926, 2.9592128314595274, 2.8522613236269625, 2.9731260524212066, 3.0526253125372067, 3.364601228037351, 2.971850390352593, 3.3773238310683245, 2.869695371898015, 17.807749221846137, 18.504598583738588]\n"
     ]
    }
   ],
   "source": [
    "dissatisfiedlist=[]                                                    # creating an empty list\n",
    "for i in range(len(surveyColumns)):                                    # iterates through each column in surveycolumns\n",
    "    dissatisfiedlist.append(np.mean(dissatisfiedDF[surveyColumns[i]])) # calculate the mean of each column in dissatisfiedDF and append it to dissatisfieslist\n",
    "print(dissatisfiedlist)                                                # prints the list with averages to screen "
   ]
  },
  {
   "cell_type": "code",
   "execution_count": 108,
   "id": "2f8e7c50",
   "metadata": {},
   "outputs": [
    {
     "name": "stdout",
     "output_type": "stream",
     "text": [
      "[2.8668520263901978, 3.1251649387370404, 2.885296889726673, 2.990744580584354, 3.2949575871819037, 3.5337134778510837, 3.6348444863336473, 3.5646088595664467, 3.516475023562677, 3.545353440150801, 3.6960226201696513, 3.3672761545711594, 3.7070311027332705, 3.418001885014138, 14.644156456173421, 15.00497291369253]\n"
     ]
    }
   ],
   "source": [
    "loyallist=[]                                              # creating an empty list\n",
    "for i in range(len(surveyColumns)):                       # iterates through each column in surveycolumns\n",
    "    loyallist.append(np.mean(loyalDF[surveyColumns[i]]))  # calculate the mean of each column in loyalDF and append it to loyallist \n",
    "print(loyallist)                                          # prints the list with averages to screen"
   ]
  },
  {
   "cell_type": "code",
   "execution_count": 109,
   "id": "cd18c78c",
   "metadata": {},
   "outputs": [
    {
     "name": "stdout",
     "output_type": "stream",
     "text": [
      "[2.7125315391084945, 2.390454163162321, 2.7034062237174097, 2.988982338099243, 3.044659377628259, 2.7131623212783853, 3.0059714045416315, 3.0593776282590412, 3.2357443229604708, 3.2206476030277544, 3.694112699747687, 3.2227081581160637, 3.700084104289319, 3.0607232968881415, 15.024053826745163, 15.475415366450198]\n"
     ]
    }
   ],
   "source": [
    "disloyallist=[]                                                 # creating an empty list\n",
    "for i in range(len(surveyColumns)):                             # iterates through each column in surveycolumns\n",
    "    disloyallist.append(np.mean(disloyalDF[surveyColumns[i]]))  # calculate the mean of each column in disloyalDF and append it to disloyallist\n",
    "print(disloyallist)                                                # prints the list with averages to screen"
   ]
  },
  {
   "cell_type": "code",
   "execution_count": 110,
   "id": "833216f4",
   "metadata": {},
   "outputs": [
    {
     "name": "stdout",
     "output_type": "stream",
     "text": [
      "[2.873640729589171, 3.4276258491551994, 2.7835120810212257, 2.963495657799786, 3.2110632791698808, 3.223455346256252, 3.44282977082141, 3.421803070644736, 3.5332321397466844, 3.512727996615821, 3.779331624654739, 3.4486276656630253, 3.8062557543484212, 3.3344116256500858, 14.377385721750814, 14.755981219719295]\n"
     ]
    }
   ],
   "source": [
    "personallist=[]                                                # creating an empty list\n",
    "for i in range(len(surveyColumns)):                            # iterates through each column in surveycolumns\n",
    "    personallist.append(np.mean(personalDF[surveyColumns[i]])) # calculate the mean of each column in personalDF and append it to personallist\n",
    "print(personallist)                                                # prints the list with averages to screen"
   ]
  },
  {
   "cell_type": "code",
   "execution_count": 111,
   "id": "1204f755",
   "metadata": {},
   "outputs": [
    {
     "name": "stdout",
     "output_type": "stream",
     "text": [
      "[2.8228958781621754, 2.794855785847279, 2.882677577960376, 3.0024862586823944, 3.266185767005229, 3.455174874293423, 3.5541458084800372, 3.494642837233675, 3.4345378123153423, 3.473883134692785, 3.6581896023101024, 3.29249774229873, 3.660731606702864, 3.3607304917886567, 14.86440413410188, 15.241164961708312]\n"
     ]
    }
   ],
   "source": [
    "businesslist=[]                                                # creating an empty list\n",
    "for i in range(len(surveyColumns)):                            # iterates through each column in surveycolumns\n",
    "    businesslist.append(np.mean(businessDF[surveyColumns[i]])) # calculate the mean of each column in businessDF and append it to businesslist\n",
    "print(businesslist)                                                # prints the list with averages to screen"
   ]
  },
  {
   "cell_type": "code",
   "execution_count": 112,
   "id": "41f238e1",
   "metadata": {},
   "outputs": [
    {
     "name": "stdout",
     "output_type": "stream",
     "text": [
      "[2.8749078186900823, 3.07093244610609, 2.7769641050266682, 2.996312747603286, 3.168310209401636, 3.0576926375002142, 3.2888233377351694, 3.3053559484813664, 3.2699240254506163, 3.328199763329846, 3.565538767600199, 3.186969421530124, 3.5817969781680357, 3.2273576977825034, 15.083829254489016, 15.615465354371354]\n"
     ]
    }
   ],
   "source": [
    "ecolist=[]                                              # creating an empty list\n",
    "for i in range(len(surveyColumns)):                       # iterates through each column in surveycolumns\n",
    "    ecolist.append(np.mean(ecoDF[surveyColumns[i]]))   # calculate the mean of each column in ecoDF and append it to ecolist\n",
    "print(ecolist)                                                # prints the list with averages to screen"
   ]
  },
  {
   "cell_type": "code",
   "execution_count": 113,
   "id": "a1f2be4c",
   "metadata": {},
   "outputs": [
    {
     "name": "stdout",
     "output_type": "stream",
     "text": [
      "[2.7898970398970397, 2.8989382239382238, 2.9267696267696266, 2.985279922779923, 3.3355534105534104, 3.7322232947232945, 3.7708655083655085, 3.6534266409266407, 3.693082368082368, 3.664993564993565, 3.853619691119691, 3.526029601029601, 3.8555019305019305, 3.490492277992278, 14.304584942084942, 14.491805129859655]\n"
     ]
    }
   ],
   "source": [
    "businessclasslist=[]                                                     # creating an empty list\n",
    "for i in range(len(surveyColumns)):                                      # iterates through each column in surveycolumns\n",
    "    businessclasslist.append(np.mean(businessclassDF[surveyColumns[i]])) # calculate the mean of each column in businessclassDF and append it to businessclasslist\n",
    "print(businessclasslist)                                                # prints the list with averages to screen"
   ]
  },
  {
   "cell_type": "code",
   "execution_count": 114,
   "id": "032a380c",
   "metadata": {},
   "outputs": [
    {
     "name": "stdout",
     "output_type": "stream",
     "text": [
      "[2.9352884921899904, 3.098926787801509, 2.822973116565721, 2.9878865157794072, 3.1790457974710447, 3.098501753267453, 3.2912549144618, 3.307618744022952, 3.1682074168526193, 3.280097757942833, 3.4587185208798217, 3.070555732653278, 3.484751886090745, 3.2176176814366166, 15.122834980342153, 15.80319829424307]\n"
     ]
    }
   ],
   "source": [
    "ecopluslist=[]                                                # creating an empty list\n",
    "for i in range(len(surveyColumns)):                           # iterates through each column in surveycolumns\n",
    "    ecopluslist.append(np.mean(ecoplusDF[surveyColumns[i]]))  # calculate the mean of each column in ecoplusDF and append it to ecopluslist\n",
    "print(ecopluslist)                                            # prints the list with averages to screen"
   ]
  },
  {
   "cell_type": "markdown",
   "id": "a6f2cb1a",
   "metadata": {},
   "source": [
    "Question - 6"
   ]
  },
  {
   "cell_type": "code",
   "execution_count": 115,
   "id": "c3664a42",
   "metadata": {},
   "outputs": [
    {
     "name": "stdout",
     "output_type": "stream",
     "text": [
      "There are 71087 satisfied customers and 58793 dissatisfied customers in this survey\n"
     ]
    }
   ],
   "source": [
    "totalSatisfied = len(satisfiedDF)                   # calcualte the total number of satisfied costumers                       \n",
    "totalDisSatisfied = len(dissatisfiedDF)             # calcualte the total number of dissatisfied costumers\n",
    "print('There are {} satisfied customers and {} dissatisfied customers in this survey'.format(totalSatisfied, totalDisSatisfied))      #prints the result using .format method  "
   ]
  },
  {
   "cell_type": "code",
   "execution_count": 116,
   "id": "93889aa2",
   "metadata": {},
   "outputs": [
    {
     "data": {
      "text/plain": [
       "Type of Travel\n",
       "Business travel    52356\n",
       "Personal Travel    18731\n",
       "Name: count, dtype: int64"
      ]
     },
     "execution_count": 116,
     "metadata": {},
     "output_type": "execute_result"
    }
   ],
   "source": [
    "satisfiedDF['Type of Travel'].value_counts().sort_values(ascending=False)    # Count the frequency for unique value in 'Type of Travel' column in satisfiedDF and sort in descending order, display it to screen  "
   ]
  },
  {
   "cell_type": "code",
   "execution_count": 117,
   "id": "ff235ff6",
   "metadata": {},
   "outputs": [
    {
     "data": {
      "text/plain": [
       "Type of Travel\n",
       "Business travel    37337\n",
       "Personal Travel    21456\n",
       "Name: count, dtype: int64"
      ]
     },
     "execution_count": 117,
     "metadata": {},
     "output_type": "execute_result"
    }
   ],
   "source": [
    "dissatisfiedDF['Type of Travel'].value_counts().sort_values(ascending=False)    # Count the frequency for unique value in 'Type of Travel' column in dissatisfiedDF and sort in descending order, display it to screen  "
   ]
  },
  {
   "cell_type": "code",
   "execution_count": 118,
   "id": "1100a82b",
   "metadata": {},
   "outputs": [
    {
     "data": {
      "text/plain": [
       "Class\n",
       "Business    44095\n",
       "Eco         22973\n",
       "Eco Plus     4019\n",
       "Name: count, dtype: int64"
      ]
     },
     "execution_count": 118,
     "metadata": {},
     "output_type": "execute_result"
    }
   ],
   "source": [
    "satisfiedDF['Class'].value_counts().sort_values(ascending=False)     # Count the frequency for unique value in 'Class' column in satisfiedDF and sort in descending order, display it to screen"
   ]
  },
  {
   "cell_type": "code",
   "execution_count": 119,
   "id": "bc566cf0",
   "metadata": {},
   "outputs": [
    {
     "data": {
      "text/plain": [
       "Class\n",
       "Eco         35336\n",
       "Business    18065\n",
       "Eco Plus     5392\n",
       "Name: count, dtype: int64"
      ]
     },
     "execution_count": 119,
     "metadata": {},
     "output_type": "execute_result"
    }
   ],
   "source": [
    "dissatisfiedDF['Class'].value_counts().sort_values(ascending=False)    # Count the frequency for unique value in 'Class' column  in dissatisfiedDF and sort in descending order,display it to screen"
   ]
  },
  {
   "cell_type": "markdown",
   "id": "59ff7368",
   "metadata": {},
   "source": [
    "Question - 7"
   ]
  },
  {
   "cell_type": "markdown",
   "id": "e0874ae8",
   "metadata": {},
   "source": [
    "According to the exploratory data analysis performed on the given dataset, in order to increase customer satisfaction, the airline should consider the 'class' is the most important feature. Customers who travelled in Business class were more satisfied compared to other classes, according to the data obtained from the above question."
   ]
  }
 ],
 "metadata": {
  "kernelspec": {
   "display_name": "Python 3 (ipykernel)",
   "language": "python",
   "name": "python3"
  },
  "language_info": {
   "codemirror_mode": {
    "name": "ipython",
    "version": 3
   },
   "file_extension": ".py",
   "mimetype": "text/x-python",
   "name": "python",
   "nbconvert_exporter": "python",
   "pygments_lexer": "ipython3",
   "version": "3.11.5"
  }
 },
 "nbformat": 4,
 "nbformat_minor": 5
}
